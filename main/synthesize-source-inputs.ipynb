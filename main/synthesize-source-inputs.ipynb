{
 "cells": [
  {
   "cell_type": "code",
   "execution_count": null,
   "metadata": {},
   "outputs": [],
   "source": [
    "%run ~/violin-renderer/src/synthesize.ipynb"
   ]
  },
  {
   "cell_type": "code",
   "execution_count": null,
   "metadata": {},
   "outputs": [],
   "source": [
    "input_path = '../bach-violin-dataset/dataset/source-input/emil-telmanyi/bwv1001/emil-telmanyi_bwv1001_mov1.csv'\n",
    "tempo_path = '../bach-violin-dataset/dataset/tempos/emil-telmanyi/bwv1001/emil-telmanyi_bwv1001_mov1.txt'\n",
    "output_path = './'\n",
    "name = 'test'\n",
    "\n",
    "synthesizeSourceInput(input_path, tempo_path, output_path, name)"
   ]
  },
  {
   "cell_type": "code",
   "execution_count": null,
   "metadata": {},
   "outputs": [],
   "source": [
    "# SOURCE_INPUT_PATH = '../bach-violin-dataset/dataset/source-input/'\n",
    "# TEMPO_PATH = '../bach-violin-dataset/dataset/tempos/'\n",
    "# OUTPUT_PATH = './source-input-audio/'\n",
    "# composer_directories = os.listdir(SOURCE_INPUT_PATH)\n",
    "\n",
    "# for composer_directory in composer_directories:\n",
    "#     song_names = os.listdir(SOURCE_INPUT_PATH + composer_directory)\n",
    "#     # os.mkdir(OUTPUT_PATH + composer_directory)\n",
    "\n",
    "#     for name in song_names:\n",
    "#         song_files = os.listdir(SOURCE_INPUT_PATH + composer_directory + '/' + name)\n",
    "#         # os.mkdir(OUTPUT_PATH + composer_directory + '/' + name)\n",
    "\n",
    "#         for file in song_files:\n",
    "#             input_path = SOURCE_INPUT_PATH + composer_directory + '/' + name + '/' + file\n",
    "#             tempo_path = TEMPO_PATH + composer_directory + '/' + name + '/' + file.replace('csv', 'txt')\n",
    "#             output_path = OUTPUT_PATH + composer_directory + '/' + name + '/'\n",
    "#             name = file.replace('.csv', '')\n",
    "\n",
    "#             break\n",
    "#         break\n",
    "#     break"
   ]
  }
 ],
 "metadata": {
  "kernelspec": {
   "display_name": "music-gen",
   "language": "python",
   "name": "python3"
  },
  "language_info": {
   "codemirror_mode": {
    "name": "ipython",
    "version": 3
   },
   "file_extension": ".py",
   "mimetype": "text/x-python",
   "name": "python",
   "nbconvert_exporter": "python",
   "pygments_lexer": "ipython3",
   "version": "3.9.18"
  }
 },
 "nbformat": 4,
 "nbformat_minor": 2
}
