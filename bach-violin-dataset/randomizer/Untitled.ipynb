{
 "cells": [
  {
   "cell_type": "code",
   "execution_count": 49,
   "id": "10faa809-5759-4606-acbf-61d18dbe9607",
   "metadata": {
    "tags": []
   },
   "outputs": [
    {
     "name": "stdout",
     "output_type": "stream",
     "text": [
      "[11, 1, 4, 18, 19, 12, 15, 8, 3, 6, 16, 14, 7, 13, 5, 10, 9, 17]\n",
      "\n",
      "Entire Random Listing:\n",
      "violin-renderer/bach-violin-dataset/dataset_11\n",
      "violin-renderer/bach-violin-dataset/dataset_1\n",
      "violin-renderer/bach-violin-dataset/dataset_4\n",
      "violin-renderer/bach-violin-dataset/dataset_18\n",
      "violin-renderer/bach-violin-dataset/dataset_19\n",
      "violin-renderer/bach-violin-dataset/dataset_12\n",
      "violin-renderer/bach-violin-dataset/dataset_15\n",
      "violin-renderer/bach-violin-dataset/dataset_8\n",
      "violin-renderer/bach-violin-dataset/dataset_3\n",
      "violin-renderer/bach-violin-dataset/dataset_6\n",
      "violin-renderer/bach-violin-dataset/dataset_16\n",
      "violin-renderer/bach-violin-dataset/dataset_14\n",
      "violin-renderer/bach-violin-dataset/dataset_7\n",
      "violin-renderer/bach-violin-dataset/dataset_13\n",
      "violin-renderer/bach-violin-dataset/dataset_5\n",
      "violin-renderer/bach-violin-dataset/dataset_10\n",
      "violin-renderer/bach-violin-dataset/dataset_9\n",
      "violin-renderer/bach-violin-dataset/dataset_17\n",
      "\n",
      "Training Set:\n",
      "violin-renderer/bach-violin-dataset/dataset_11\n",
      "violin-renderer/bach-violin-dataset/dataset_1\n",
      "violin-renderer/bach-violin-dataset/dataset_4\n",
      "violin-renderer/bach-violin-dataset/dataset_18\n",
      "violin-renderer/bach-violin-dataset/dataset_19\n",
      "violin-renderer/bach-violin-dataset/dataset_12\n",
      "violin-renderer/bach-violin-dataset/dataset_15\n",
      "violin-renderer/bach-violin-dataset/dataset_8\n",
      "violin-renderer/bach-violin-dataset/dataset_3\n",
      "\n",
      "Validate Set:\n",
      "violin-renderer/bach-violin-dataset/dataset_6\n",
      "violin-renderer/bach-violin-dataset/dataset_16\n",
      "violin-renderer/bach-violin-dataset/dataset_14\n",
      "violin-renderer/bach-violin-dataset/dataset_7\n",
      "violin-renderer/bach-violin-dataset/dataset_13\n",
      "violin-renderer/bach-violin-dataset/dataset_5\n",
      "violin-renderer/bach-violin-dataset/dataset_10\n",
      "violin-renderer/bach-violin-dataset/dataset_9\n",
      "violin-renderer/bach-violin-dataset/dataset_17\n"
     ]
    }
   ],
   "source": [
    "import random\n",
    "\n",
    "# List of Paths W/ index Referring to Different Dataset\n",
    "file_paths = [f\"violin-renderer/bach-violin-dataset/dataset_{idx}\" for idx in range(1,21)] # Note : Modify Range Accordingly\n",
    "\n",
    "# Map Index\n",
    "dict_mapping = {}\n",
    "for idx, path in enumerate(file_paths, start = 1):\n",
    "    dict_mapping[idx] = path\n",
    "\n",
    "# Size = 90% * length of dictionary\n",
    "size = (int) (0.9 * len(dict_mapping))\n",
    "\n",
    "random_listing = random.sample(list(dict_mapping.keys()), size)\n",
    "print(random_listing)\n",
    "print(\"\\nEntire Random Listing:\")\n",
    "\n",
    "gather_paths = []\n",
    "for idx in random_listing:\n",
    "    gather_paths.append(dict_mapping[idx])\n",
    "for file in gather_paths:\n",
    "    print(file)\n",
    "\n",
    "distribution = (int) (0.5 * len(gather_paths)) # Note : 50% | 50%\n",
    "training_set = gather_paths[:distribution]\n",
    "validate_set = gather_paths[distribution:]\n",
    "\n",
    "print(\"\\nTraining Set:\")\n",
    "for path in training_set:\n",
    "    print(path)\n",
    "print(\"\\nValidate Set:\")\n",
    "for path in validate_set:\n",
    "    print(path)\n"
   ]
  },
  {
   "cell_type": "code",
   "execution_count": null,
   "id": "f16fec3d-a746-4000-9ca9-4a6550b19932",
   "metadata": {},
   "outputs": [],
   "source": []
  }
 ],
 "metadata": {
  "kernelspec": {
   "display_name": "Python 3 (ipykernel)",
   "language": "python",
   "name": "python3"
  },
  "language_info": {
   "codemirror_mode": {
    "name": "ipython",
    "version": 3
   },
   "file_extension": ".py",
   "mimetype": "text/x-python",
   "name": "python",
   "nbconvert_exporter": "python",
   "pygments_lexer": "ipython3",
   "version": "3.11.5"
  }
 },
 "nbformat": 4,
 "nbformat_minor": 5
}
