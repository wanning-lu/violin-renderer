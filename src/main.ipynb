{
 "cells": [
  {
   "cell_type": "code",
   "execution_count": null,
   "metadata": {},
   "outputs": [],
   "source": [
    "# Linear Regression model initialization\n",
    "%run ~/violin-renderer/src/models/linear_model.ipynb\n",
    "\n",
    "model_onset = LR_onset()\n",
    "model_offset = LR_offset()\n",
    "\n",
    "# Get MSE\n",
    "MSE = LR_MSE(model_onset, model_offset)\n",
    "\n",
    "# Print some stats\n",
    "print('Coefficients: %.3f', model_onset.coef_, model_offset.coef_)\n",
    "print('Intercept: %.3f', model_onset.intercept_, model_offset.intercept_)\n",
    "print('MSE Min: %.3f' % min(MSE))\n",
    "print('MSE Max: %.3f' % max(MSE))\n",
    "print('MSE Mean: %.3f' % np.mean(MSE))\n",
    "print('MSE Standard Deviation: %.3f' % np.std(MSE))"
   ]
  },
  {
   "cell_type": "code",
   "execution_count": null,
   "metadata": {},
   "outputs": [],
   "source": [
    "# Linear Regression model test case: generate and synthesize a song\n",
    "%run ~/violin-renderer/src/misc/synthesize.ipynb\n",
    "\n",
    "input_file = '/violin-renderer/bach-violin-dataset/dataset/source-input/sedna-heitzman/bwv1002/sedna-heitzman_bwv1002_mov1.csv'\n",
    "ground_truth_file = '/violin-renderer/bach-violin-dataset/dataset/ground-truth/sedna-heitzman/bwv1002/sedna-heitzman_bwv1002_mov1.csv'\n",
    "\n",
    "input_values = parse_input_file(HOME_DIR + input_file)\n",
    "ground_truth_values = parse_output_file(HOME_DIR + ground_truth_file)\n",
    "\n",
    "# Get input values\n",
    "onset_values = [(pair[0], pair[2]) for pair in input_values]\n",
    "offset_values = [(pair[1], pair[2]) for pair in input_values]\n",
    "start_values = [pair[0] for pair in ground_truth_values]\n",
    "end_values = [pair[1] for pair in ground_truth_values]\n",
    "\n",
    "# Generate output values and compute MSE\n",
    "Y_onset_pred = model_onset.predict(testing_X_onset[0])\n",
    "Y_offset_pred = model_offset.predict(testing_X_offset[0])\n",
    "onset_error = mean_squared_error(start_values, Y_onset_pred)\n",
    "offset_error = mean_squared_error(end_values, Y_offset_pred)\n",
    "\n",
    "# Synthesize and print MSE\n",
    "synthesize_generated_output(HOME_DIR + input_file, zip(Y_onset_pred, Y_offset_pred), HOME_DIR + '/violin-renderer/', \"test\")\n",
    "\n",
    "song_MSE = (onset_error + offset_error) / 2\n",
    "print(\"Song MSE: %.3f\" % song_MSE)"
   ]
  },
  {
   "cell_type": "code",
   "execution_count": null,
   "metadata": {},
   "outputs": [],
   "source": [
    "# MLP model initialization\n",
    "%run ~/violin-renderer/src/models/mlp_model.ipynb\n",
    "\n",
    "mlp_model = MLP(3, 4, 2)\n",
    "\n",
    "# uncomment one of the models\n",
    "# mlp_model.load_state_dict(torch.load('models/states/mlp_wanning.pt'))\n",
    "mlp_model.load_state_dict(torch.load('models/states/mlp_hoang.pt'))\n",
    "\n",
    "# train the model again if you don't want to use previously trained models\n",
    "# train_model()\n",
    "\n",
    "MSE_error()"
   ]
  },
  {
   "cell_type": "code",
   "execution_count": null,
   "metadata": {},
   "outputs": [],
   "source": [
    "outputs = generate_output() # { file_path : [[start, end, pitch],...] }\n",
    "\n",
    "for file_path, values in outputs.items():\n",
    "    print(file_path)\n",
    "    print(values)"
   ]
  }
 ],
 "metadata": {
  "kernelspec": {
   "display_name": "Python 3 (ipykernel)",
   "language": "python",
   "name": "python3"
  },
  "language_info": {
   "codemirror_mode": {
    "name": "ipython",
    "version": 3
   },
   "file_extension": ".py",
   "mimetype": "text/x-python",
   "name": "python",
   "nbconvert_exporter": "python",
   "pygments_lexer": "ipython3",
   "version": "3.9.18"
  }
 },
 "nbformat": 4,
 "nbformat_minor": 4
}
