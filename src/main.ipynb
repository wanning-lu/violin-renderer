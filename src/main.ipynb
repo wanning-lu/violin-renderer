{
 "cells": [
  {
   "cell_type": "code",
   "execution_count": null,
   "metadata": {},
   "outputs": [],
   "source": [
    "%run ~/violin-renderer/src/models/linear_model.ipynb\n",
    "%run ~/violin-renderer/src/models/mlp_model.ipynb"
   ]
  },
  {
   "cell_type": "code",
   "execution_count": null,
   "metadata": {},
   "outputs": [],
   "source": [
    "# Linear Regression Model\n",
    "\n",
    "# Initialize models\n",
    "model_onset = LR_onset()\n",
    "model_offset = LR_offset()\n",
    "\n",
    "# Get MSE\n",
    "MSE = LR_MSE(model_onset, model_offset)\n",
    "\n",
    "# Print some stats\n",
    "print('Coefficients:', model_onset.coef_, model_offset.coef_)\n",
    "print('Intercept:', model_onset.intercept_, model_offset.intercept_)\n",
    "print('MSE Min: %.2f' % min(MSE))\n",
    "print('MSE Max: %.2f' % max(MSE))\n",
    "print('MSE Mean: %.2f' % np.mean(MSE))\n",
    "print('MSE Standard Deviation: %.2f' % np.std(MSE))"
   ]
  },
  {
   "cell_type": "code",
   "execution_count": null,
   "metadata": {},
   "outputs": [],
   "source": [
    "# MLP Model\n",
    "\n",
    "mlp_model = MLP(3, 4, 2)\n",
    "\n",
    "# uncomment either 1 or 2 depending on the implementation you want\n",
    "# mlp_model.load_state_dict(torch.load('models/mlp.pt'))\n",
    "mlp_model.load_state_dict(torch.load('models/mlp2.pt'))\n",
    "\n",
    "\n",
    "\n",
    "MSE_error()"
   ]
  }
 ],
 "metadata": {
  "kernelspec": {
   "display_name": "Python 3 (ipykernel)",
   "language": "python",
   "name": "python3"
  },
  "language_info": {
   "codemirror_mode": {
    "name": "ipython",
    "version": 3
   },
   "file_extension": ".py",
   "mimetype": "text/x-python",
   "name": "python",
   "nbconvert_exporter": "python",
   "pygments_lexer": "ipython3",
   "version": "3.9.18"
  }
 },
 "nbformat": 4,
 "nbformat_minor": 4
}
