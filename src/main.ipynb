{
 "cells": [
  {
   "cell_type": "code",
   "execution_count": 50,
   "metadata": {},
   "outputs": [],
   "source": [
    "# %run ~/violin-renderer/src/linear_model.ipynb"
   ]
  },
  {
   "cell_type": "code",
   "execution_count": 51,
   "metadata": {},
   "outputs": [],
   "source": [
    "%run ~/violin-renderer/src/models/mlp_model.ipynb"
   ]
  },
  {
   "cell_type": "code",
   "execution_count": 52,
   "metadata": {},
   "outputs": [
    {
     "data": {
      "text/plain": [
       "<All keys matched successfully>"
      ]
     },
     "execution_count": 52,
     "metadata": {},
     "output_type": "execute_result"
    }
   ],
   "source": [
    "mlp_model = MLP(3, 4, 2)\n",
    "\n",
    "# uncomment either 1 or 2 depending on the implementation you want\n",
    "# mlp_model.load_state_dict(torch.load('models/mlp.pt'))\n",
    "mlp_model.load_state_dict(torch.load('models/mlp2.pt'))"
   ]
  },
  {
   "cell_type": "code",
   "execution_count": 53,
   "metadata": {},
   "outputs": [
    {
     "data": {
      "text/plain": [
       "[tensor(112103.3906),\n",
       " tensor(772205.1250),\n",
       " tensor(153901.1250),\n",
       " tensor(15338411.),\n",
       " tensor(15978477.),\n",
       " tensor(132569.9375),\n",
       " tensor(3034118.2500),\n",
       " tensor(849293.1250),\n",
       " tensor(602450.1250),\n",
       " tensor(1334325.8750),\n",
       " tensor(629946.6875),\n",
       " tensor(123392.1875),\n",
       " tensor(303367.6562),\n",
       " tensor(364768.8125),\n",
       " tensor(481189.4375),\n",
       " tensor(1857640.8750),\n",
       " tensor(286283.5000),\n",
       " tensor(5788118.5000),\n",
       " tensor(681387.7500),\n",
       " tensor(1329384.6250),\n",
       " tensor(466287.1562)]"
      ]
     },
     "execution_count": 53,
     "metadata": {},
     "output_type": "execute_result"
    }
   ],
   "source": [
    "MSE_error()"
   ]
  }
 ],
 "metadata": {
  "kernelspec": {
   "display_name": "Python 3 (ipykernel)",
   "language": "python",
   "name": "python3"
  },
  "language_info": {
   "codemirror_mode": {
    "name": "ipython",
    "version": 3
   },
   "file_extension": ".py",
   "mimetype": "text/x-python",
   "name": "python",
   "nbconvert_exporter": "python",
   "pygments_lexer": "ipython3",
   "version": "3.9.18"
  }
 },
 "nbformat": 4,
 "nbformat_minor": 4
}
