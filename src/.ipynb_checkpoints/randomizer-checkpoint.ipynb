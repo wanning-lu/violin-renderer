{
 "cells": [
  {
   "cell_type": "code",
   "execution_count": 17,
   "id": "ee3d06a8",
   "metadata": {},
   "outputs": [],
   "source": [
    "import glob\n",
    "\n",
    "file_paths = glob.glob('../bach-violin-dataset/dataset/ground-truth/**/*.csv', recursive=True)\n",
    "\n",
    "for i in range(len(file_paths)):\n",
    "    file_paths[i] = file_paths[i][43:]"
   ]
  },
  {
   "cell_type": "code",
   "execution_count": 18,
   "id": "10faa809-5759-4606-acbf-61d18dbe9607",
   "metadata": {
    "tags": []
   },
   "outputs": [],
   "source": [
    "import random\n",
    "import math\n",
    "\n",
    "def data_loader():\n",
    "    random.shuffle(file_paths)\n",
    "\n",
    "    training_X_paths = []\n",
    "    training_y_paths = []\n",
    "    testing_X_paths = []\n",
    "    testing_y_paths = []\n",
    "\n",
    "    training_stop_index = math.floor(0.8 * len(file_paths)) # 80/20 split for training/testing\n",
    "\n",
    "    for i in range(training_stop_index):\n",
    "        training_X_paths.append('../bach-violin-dataset/dataset/source-input' + file_paths[i])\n",
    "        training_y_paths.append('../bach-violin-dataset/dataset/ground-truth' + file_paths[i])\n",
    "    for i in range(training_stop_index, len(file_paths)):\n",
    "        testing_X_paths.append('../bach-violin-dataset/dataset/source-input' + file_paths[i])\n",
    "        testing_y_paths.append('../bach-violin-dataset/dataset/ground-truth' + file_paths[i])\n",
    "\n",
    "    file = open('training_input.txt','w')\n",
    "    for path in training_X_paths:\n",
    "        file.write(path+\"\\n\")\n",
    "    file.close()\n",
    "\n",
    "    file = open('training_truth.txt','w')\n",
    "    for path in training_y_paths:\n",
    "        file.write(path+\"\\n\")\n",
    "    file.close()\n",
    "\n",
    "    file = open('testing_input.txt','w')\n",
    "    for path in testing_X_paths:\n",
    "        file.write(path+\"\\n\")\n",
    "    file.close()\n",
    "\n",
    "    file = open('testing_truth.txt','w')\n",
    "    for path in testing_y_paths:\n",
    "        file.write(path+\"\\n\")\n",
    "    file.close()\n",
    "\n",
    "    return training_X_paths, training_y_paths, testing_X_paths, testing_y_paths\n"
   ]
  },
  {
   "cell_type": "code",
   "execution_count": null,
   "id": "08f84d33",
   "metadata": {},
   "outputs": [],
   "source": [
    "data_loader()"
   ]
  }
 ],
 "metadata": {
  "kernelspec": {
   "display_name": "Python 3 (ipykernel)",
   "language": "python",
   "name": "python3"
  },
  "language_info": {
   "codemirror_mode": {
    "name": "ipython",
    "version": 3
   },
   "file_extension": ".py",
   "mimetype": "text/x-python",
   "name": "python",
   "nbconvert_exporter": "python",
   "pygments_lexer": "ipython3",
   "version": "3.11.2"
  }
 },
 "nbformat": 4,
 "nbformat_minor": 5
}
