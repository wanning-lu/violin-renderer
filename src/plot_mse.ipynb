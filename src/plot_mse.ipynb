{
 "cells": [
  {
   "cell_type": "code",
   "execution_count": null,
   "metadata": {},
   "outputs": [],
   "source": [
    "import matplotlib.pyplot as plt\n",
    "import matplotlib.patches as mpatches"
   ]
  },
  {
   "cell_type": "code",
   "execution_count": null,
   "metadata": {},
   "outputs": [],
   "source": [
    "# MSE Errors for each song in Testing Dataset\n",
    "LINEAR_REGRESSION = [11082.636443317446, 7772.323453889534, 4358.3696875740625, 1590.3999213033323, 3422.8758643593965, 4416.16030438724, 11648.986741082132, 1038.926015666099, 3301.697437386056, 1191.5717154494155]\n",
    "\n",
    "MLP = [802.8331909179688, 3482.796875, 2663.884765625, 431.5924987792969, 5326.146484375, 1966.5135498046875, 8985.490234375, 299.118408203125, 874.052978515625, 3788.15869140625]"
   ]
  },
  {
   "cell_type": "code",
   "execution_count": null,
   "metadata": {},
   "outputs": [],
   "source": [
    "# Create a boxplot\n",
    "data = [LINEAR_REGRESSION, MLP]\n",
    "positions = [1, 2]\n",
    "colors = ['lightblue', 'lightgreen', 'lightcoral']\n",
    "models = ['Linear Regression', 'MLP']\n",
    "\n",
    "# Create a boxplot with patch_artist=True to allow coloring\n",
    "box = plt.boxplot(data, positions=positions, patch_artist=True)\n",
    "\n",
    "# Color each box\n",
    "for patch, color in zip(box['boxes'], colors):\n",
    "    patch.set_facecolor(color)\n",
    "\n",
    "# Set x-ticks and their labels\n",
    "plt.xticks(positions, models)\n",
    "\n",
    "# Add a legend\n",
    "for patch, color, label in zip(box['boxes'], colors, models):\n",
    "    plt.plot([], [], color=color, label=label)\n",
    "\n",
    "# Add a title, legend, and labels\n",
    "plt.title('Boxplot of MSE values for each model')\n",
    "plt.xlabel('Model')\n",
    "plt.ylabel('MSE value')\n",
    "plt.legend()\n",
    "\n",
    "# Show the plot\n",
    "plt.show()"
   ]
  }
 ],
 "metadata": {
  "kernelspec": {
   "display_name": "music-gen",
   "language": "python",
   "name": "python3"
  },
  "language_info": {
   "codemirror_mode": {
    "name": "ipython",
    "version": 3
   },
   "file_extension": ".py",
   "mimetype": "text/x-python",
   "name": "python",
   "nbconvert_exporter": "python",
   "pygments_lexer": "ipython3",
   "version": "3.9.18"
  }
 },
 "nbformat": 4,
 "nbformat_minor": 2
}
