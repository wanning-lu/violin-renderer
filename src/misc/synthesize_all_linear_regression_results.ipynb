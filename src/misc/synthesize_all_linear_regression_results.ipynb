{
 "cells": [
  {
   "cell_type": "code",
   "execution_count": null,
   "metadata": {},
   "outputs": [],
   "source": [
    "import os \n",
    "%run ~/violin-renderer/src/misc/synthesize.ipynb"
   ]
  },
  {
   "cell_type": "code",
   "execution_count": null,
   "metadata": {},
   "outputs": [],
   "source": [
    "# Create an output directory in /src, generate all results from the test dataset and synthesize all of them\n",
    "\n",
    "HOME_PATH = os.path.expanduser(\"~\")\n",
    "SOURCE_INPUT_PATH =  HOME_PATH + '/violin-renderer/bach-violin-dataset/dataset/source-input/'\n",
    "TEMPO_PATH =  HOME_PATH + '/violin-renderer/bach-violin-dataset/dataset/tempos/'\n",
    "OUTPUT_PATH = HOME_PATH + '/violin-renderer/src/output/'\n",
    "composer_directories = os.listdir(SOURCE_INPUT_PATH)\n"
   ]
  }
 ],
 "metadata": {
  "language_info": {
   "name": "python"
  }
 },
 "nbformat": 4,
 "nbformat_minor": 2
}
