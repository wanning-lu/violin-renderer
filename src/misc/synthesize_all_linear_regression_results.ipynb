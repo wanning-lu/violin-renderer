{
 "cells": [
  {
   "cell_type": "code",
   "execution_count": null,
   "metadata": {},
   "outputs": [],
   "source": [
    "import os \n",
    "%run ~/violin-renderer/src/misc/synthesize.ipynb\n",
    "%run ~/violin-renderer/src/models/linear_model.ipynb"
   ]
  },
  {
   "cell_type": "code",
   "execution_count": null,
   "metadata": {},
   "outputs": [],
   "source": [
    "# Create an output directory in /src, generate all results from the test dataset and synthesize all of them\n",
    "# Setting up paths and output folders\n",
    "HOME_PATH = os.path.expanduser(\"~\")\n",
    "SOURCE_INPUT_PATH =  HOME_PATH + '/violin-renderer/bach-violin-dataset/dataset/source-input/'\n",
    "TEMPO_PATH =  HOME_PATH + '/violin-renderer/bach-violin-dataset/dataset/tempos/'\n",
    "OUTPUT_PATH = HOME_PATH + '/violin-renderer/src/output/'\n",
    "composer_directories = os.listdir(SOURCE_INPUT_PATH)\n",
    "\n",
    "# Initialize models\n",
    "model_onset = LR_onset()\n",
    "model_offset = LR_offset()\n",
    "MSE = LR_MSE(model_onset, model_offset)\n",
    "\n",
    "# Get all results\n",
    "results = generate_all_outputs(model_onset, model_offset)\n",
    "\n",
    "# Synthesize\n",
    "os.mkdir(OUTPUT_PATH)\n",
    "for notes_path, generated_timings in results.items():\n",
    "    name = notes_path.split('/')[-1]\n",
    "    name = name.replace('.csv', '')\n",
    "    synthesize_generated_output(HOME_PATH + notes_path, generated_timings, OUTPUT_PATH, name)"
   ]
  }
 ],
 "metadata": {
  "kernelspec": {
   "display_name": "music-gen",
   "language": "python",
   "name": "python3"
  },
  "language_info": {
   "codemirror_mode": {
    "name": "ipython",
    "version": 3
   },
   "file_extension": ".py",
   "mimetype": "text/x-python",
   "name": "python",
   "nbconvert_exporter": "python",
   "pygments_lexer": "ipython3",
   "version": "3.9.18"
  }
 },
 "nbformat": 4,
 "nbformat_minor": 2
}
