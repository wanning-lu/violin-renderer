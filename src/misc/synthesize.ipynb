{
 "cells": [
  {
   "cell_type": "code",
   "execution_count": null,
   "metadata": {},
   "outputs": [],
   "source": [
    "import pretty_midi\n",
    "import numpy as np\n",
    "import muspy\n",
    "import os\n",
    "import csv\n",
    "%run ~/violin-renderer/src/misc/parse.ipynb"
   ]
  },
  {
   "cell_type": "code",
   "execution_count": null,
   "metadata": {},
   "outputs": [],
   "source": [
    "# Install soundfont for muspy\n",
    "muspy.download_musescore_soundfont()"
   ]
  },
  {
   "cell_type": "code",
   "execution_count": null,
   "metadata": {},
   "outputs": [],
   "source": [
    "# @param:\n",
    "    # startTimings: an array of expressive start times\n",
    "    # endTimings: an array of expressive end times\n",
    "    # fileName: name of CSV file\n",
    "# @return: output a CSV file containing the given expressive start and end timings\n",
    "def storeCSV(startTimings, endTimings, fileName):\n",
    "    if len(startTimings) != len(endTimings):\n",
    "        raise ValueError(\"Arrays must have the same length\")\n",
    "    else:\n",
    "        rows = zip(startTimings, endTimings)\n",
    "        outputDirectory = './csv-output/'\n",
    "        with open(outputDirectory + fileName + '.csv', mode='w', newline='') as file:\n",
    "            writer = csv.writer(file)\n",
    "            writer.writerow(['start', 'end'])  # Write header\n",
    "            writer.writerows(rows)"
   ]
  },
  {
   "cell_type": "code",
   "execution_count": null,
   "metadata": {},
   "outputs": [],
   "source": [
    "# @param:\n",
    "    # inputPath: path to the input file\n",
    "    # tempoPath: path to the tempo file\n",
    "    # outputPath: path to store file\n",
    "    # name: name of the .wav file\n",
    "# @return: wav file in folder that converts the expressive timings\n",
    "def synthesizeSourceInput(inputPath, tempoPath, outputPath, name):\n",
    "    MIDI = pretty_midi.PrettyMIDI()\n",
    "\n",
    "    # Create an Instrument instance for a violin instrument\n",
    "    violinProgram = pretty_midi.instrument_name_to_program('Violin')\n",
    "    violin = pretty_midi.Instrument(program=violinProgram)\n",
    "\n",
    "    # Create notes\n",
    "    inputInfo = parseInputFile(inputPath)\n",
    "    tempo = parseTempoFile(tempoPath)    \n",
    "\n",
    "    # Add notes to instrument\n",
    "    for notes in inputInfo:\n",
    "        # We convert from tick to actual timings in seconds\n",
    "        start = (notes[0] / 24) / tempo * 60\n",
    "        end = (notes[1] / 24) / tempo * 60\n",
    "        note = pretty_midi.Note(\n",
    "            velocity=64, pitch=int(notes[2]), start=start, end=end)\n",
    "        violin.notes.append(note)\n",
    "\n",
    "    # Add the instrument to the PrettyMIDI object\n",
    "    MIDI.instruments.append(violin)\n",
    "\n",
    "    # Write to a MIDI file\n",
    "    MIDI.write('violin.mid')\n",
    "\n",
    "    # Convert to WAV using fluidsynth\n",
    "    soundfontPath = os.path.expanduser(\"~\") + '/.muspy/musescore-general/MuseScore_General.sf3'\n",
    "    os.system(f'fluidsynth -ni {soundfontPath} {\"violin.mid\"} -F {outputPath + name + \".wav\"} -r 44100')\n",
    "\n",
    "    # Remove the MIDI file\n",
    "    os.remove('violin.mid')"
   ]
  },
  {
   "cell_type": "code",
   "execution_count": null,
   "metadata": {},
   "outputs": [],
   "source": [
    "# @param:\n",
    "    # notesPath: path to the original input file -> to get pitch and velocity\n",
    "    # timingsPath: path to the generative output file containing the expressive start and end timings\n",
    "    # outputPath: path to store file\n",
    "    # name: name of the .wav file\n",
    "# @return: wav file in src folder that converts the expressive timings\n",
    "def synthesizeOutput(notesPath, timingsPath, outputPath, name):\n",
    "    MIDI = pretty_midi.PrettyMIDI()\n",
    "\n",
    "    # Create an Instrument instance for a violin instrument\n",
    "    violinProgram = pretty_midi.instrument_name_to_program('Violin')\n",
    "    violin = pretty_midi.Instrument(program=violinProgram)\n",
    "\n",
    "    # Create notes\n",
    "    notesInfo = parseInputFile(notesPath)\n",
    "    timingsInfo = parseOutputFile(timingsPath)\n",
    "\n",
    "    for notes, times in zip(notesInfo, timingsInfo):\n",
    "        note = pretty_midi.Note(\n",
    "            velocity=64, pitch=int(notes[2]), start=times[0], end=times[1])\n",
    "        violin.notes.append(note)\n",
    "\n",
    "    # Add the instrument to the PrettyMIDI object\n",
    "    MIDI.instruments.append(violin)\n",
    "\n",
    "    # Write to a MIDI file\n",
    "    MIDI.write('violin.mid')\n",
    "\n",
    "    # Convert to WAV using fluidsynth\n",
    "    soundfontPath = os.path.expanduser(\"~\") + '/.muspy/musescore-general/MuseScore_General.sf3'\n",
    "    os.system(f'fluidsynth -ni {soundfontPath} {\"violin.mid\"} -F {outputPath + name + \".wav\"} -r 44100')\n",
    "\n",
    "    # Remove the MIDI file\n",
    "    os.remove('violin.mid')"
   ]
  }
 ],
 "metadata": {
  "kernelspec": {
   "display_name": "base",
   "language": "python",
   "name": "python3"
  },
  "language_info": {
   "codemirror_mode": {
    "name": "ipython",
    "version": 3
   },
   "file_extension": ".py",
   "mimetype": "text/x-python",
   "name": "python",
   "nbconvert_exporter": "python",
   "pygments_lexer": "ipython3",
   "version": "3.9.18"
  }
 },
 "nbformat": 4,
 "nbformat_minor": 2
}
