{
 "cells": [
  {
   "cell_type": "code",
   "execution_count": 4,
   "id": "ee3d06a8",
   "metadata": {},
   "outputs": [],
   "source": [
    "import glob\n",
    "\n",
    "file_paths = glob.glob('../../bach-violin-dataset/dataset/ground-truth/**/*.csv', recursive=True)\n",
    "\n",
    "for i in range(len(file_paths)):\n",
    "    file_paths[i] = file_paths[i][46:]"
   ]
  },
  {
   "cell_type": "code",
   "execution_count": 5,
   "id": "10faa809-5759-4606-acbf-61d18dbe9607",
   "metadata": {
    "tags": []
   },
   "outputs": [],
   "source": [
    "import random\n",
    "import math\n",
    "\n",
    "def data_shuffler():\n",
    "    random.shuffle(file_paths)\n",
    "\n",
    "    training_X_paths = []\n",
    "    training_y_paths = []\n",
    "    testing_X_paths = []\n",
    "    testing_y_paths = []\n",
    "\n",
    "    training_stop_index = math.floor(0.8 * len(file_paths)) # 80/20 split for training/testing\n",
    "\n",
    "    for i in range(training_stop_index):\n",
    "        training_X_paths.append('/violin-renderer/bach-violin-dataset/dataset/source-input' + file_paths[i])\n",
    "        training_y_paths.append('/violin-renderer/bach-violin-dataset/dataset/ground-truth' + file_paths[i])\n",
    "    for i in range(training_stop_index, len(file_paths)):\n",
    "        testing_X_paths.append('/violin-renderer/bach-violin-dataset/dataset/source-input' + file_paths[i])\n",
    "        testing_y_paths.append('/violin-renderer/bach-violin-dataset/dataset/ground-truth' + file_paths[i])\n",
    "\n",
    "    file = open('../file_paths/training_input.txt','w')\n",
    "    for path in training_X_paths:\n",
    "        file.write(path+\"\\n\")\n",
    "    file.close()\n",
    "\n",
    "    file = open('../file_paths/training_truth.txt','w')\n",
    "    for path in training_y_paths:\n",
    "        file.write(path+\"\\n\")\n",
    "    file.close()\n",
    "\n",
    "    file = open('../file_paths/testing_input.txt','w')\n",
    "    for path in testing_X_paths:\n",
    "        file.write(path+\"\\n\")\n",
    "    file.close()\n",
    "\n",
    "    file = open('../file_paths/testing_truth.txt','w')\n",
    "    for path in testing_y_paths:\n",
    "        file.write(path+\"\\n\")\n",
    "    file.close()\n"
   ]
  },
  {
   "cell_type": "code",
   "execution_count": 6,
   "id": "4fc73196-8d17-4e31-bb46-c9fb730c5b6f",
   "metadata": {},
   "outputs": [],
   "source": [
    "# data_shuffler()"
   ]
  }
 ],
 "metadata": {
  "kernelspec": {
   "display_name": "Python 3 (ipykernel)",
   "language": "python",
   "name": "python3"
  },
  "language_info": {
   "codemirror_mode": {
    "name": "ipython",
    "version": 3
   },
   "file_extension": ".py",
   "mimetype": "text/x-python",
   "name": "python",
   "nbconvert_exporter": "python",
   "pygments_lexer": "ipython3",
   "version": "3.9.18"
  }
 },
 "nbformat": 4,
 "nbformat_minor": 5
}
