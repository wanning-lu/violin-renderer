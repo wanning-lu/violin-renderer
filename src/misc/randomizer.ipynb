{
 "cells": [
  {
   "cell_type": "code",
   "execution_count": null,
   "id": "ee3d06a8",
   "metadata": {},
   "outputs": [],
   "source": [
    "import glob\n",
    "import os \n",
    "import random\n",
    "import math"
   ]
  },
  {
   "cell_type": "code",
   "execution_count": null,
   "id": "099e2528",
   "metadata": {},
   "outputs": [],
   "source": [
    "HOME_PATH = os.path.expanduser(\"~\")\n",
    "FILE_PATHS = glob.glob(HOME_PATH + '/violin-renderer/bach-violin-dataset/dataset/ground-truth/**/*.csv', recursive=True)\n",
    "\n",
    "for i in range(len(FILE_PATHS)):\n",
    "    FILE_PATHS[i] = FILE_PATHS[i][43:]"
   ]
  },
  {
   "cell_type": "code",
   "execution_count": null,
   "id": "10faa809-5759-4606-acbf-61d18dbe9607",
   "metadata": {
    "tags": []
   },
   "outputs": [],
   "source": [
    "\n",
    "# Split dataset into training and testing sets\n",
    "# @return: files storing paths to training and testing files under /dataset-paths\n",
    "def dataset_randomizer():\n",
    "    random.shuffle(FILE_PATHS)\n",
    "\n",
    "    training_input_paths = []\n",
    "    training_ground_truth_paths = []\n",
    "    testing_input_paths = []\n",
    "    testing_ground_truth_paths = []\n",
    "\n",
    "    # Splitting and append paths\n",
    "    training_stop_index = math.floor(0.8 * len(FILE_PATHS)) # 80/20 split for training/testing\n",
    "\n",
    "    for i in range(training_stop_index):\n",
    "        training_input_paths.append('/violin-renderer/bach-violin-dataset/dataset/source-input' + FILE_PATHS[i])\n",
    "        training_ground_truth_paths.append('/violin-renderer/bach-violin-dataset/dataset/ground-truth' + FILE_PATHS[i])\n",
    "    \n",
    "    for i in range(training_stop_index, len(FILE_PATHS)):\n",
    "        testing_input_paths.append('/violin-renderer/bach-violin-dataset/dataset/source-input' + FILE_PATHS[i])\n",
    "        testing_ground_truth_paths.append('/violin-renderer/bach-violin-dataset/ground-truth' + FILE_PATHS[i])\n",
    "\n",
    "    # Write paths to .txt files\n",
    "    if not os.path.isdir(HOME_PATH + '/violin-renderer/src/dataset-paths'):\n",
    "        os.mkdir(HOME_PATH + '/violin-renderer/src/dataset-paths')\n",
    "\n",
    "    file = open(HOME_PATH + '/violin-renderer/src/dataset-paths/training-input.txt','w')\n",
    "    for path in training_input_paths:\n",
    "        file.write(path + \"\\n\")\n",
    "    file.close()\n",
    "\n",
    "    file = open(HOME_PATH + '/violin-renderer/src/dataset-paths/training-ground-truth.txt','w')\n",
    "    for path in training_ground_truth_paths:\n",
    "        file.write(path + \"\\n\")\n",
    "    file.close()\n",
    "\n",
    "    file = open(HOME_PATH + '/violin-renderer/src/dataset-paths/testing-input.txt','w')\n",
    "    for path in testing_input_paths:\n",
    "        file.write(path + \"\\n\")\n",
    "    file.close()\n",
    "\n",
    "    file = open(HOME_PATH + '/violin-renderer/src/dataset-paths/testing-ground-truth.txt','w')\n",
    "    for path in testing_ground_truth_paths:\n",
    "        file.write(path + \"\\n\")\n",
    "    file.close()\n",
    "\n",
    "    return training_input_paths, training_ground_truth_paths, testing_input_paths, testing_ground_truth_paths"
   ]
  },
  {
   "cell_type": "code",
   "execution_count": null,
   "id": "84267160",
   "metadata": {},
   "outputs": [],
   "source": [
    "dataset_randomizer()"
   ]
  }
 ],
 "metadata": {
  "kernelspec": {
   "display_name": "Python 3 (ipykernel)",
   "language": "python",
   "name": "python3"
  },
  "language_info": {
   "codemirror_mode": {
    "name": "ipython",
    "version": 3
   },
   "file_extension": ".py",
   "mimetype": "text/x-python",
   "name": "python",
   "nbconvert_exporter": "python",
   "pygments_lexer": "ipython3",
   "version": "3.9.18"
  }
 },
 "nbformat": 4,
 "nbformat_minor": 5
}
