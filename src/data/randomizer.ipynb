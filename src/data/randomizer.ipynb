{
 "cells": [
  {
   "cell_type": "code",
   "execution_count": 1,
   "id": "ee3d06a8",
   "metadata": {},
   "outputs": [],
   "source": [
    "import os \n",
    "import math\n",
    "import glob\n",
    "import random\n",
    "\n",
    "# Run global_variables\n",
    "%run ~/violin-renderer/src/global_variables.ipynb"
   ]
  },
  {
   "cell_type": "code",
   "execution_count": 2,
   "id": "099e2528",
   "metadata": {},
   "outputs": [],
   "source": [
    "# Get all file paths\n",
    "FILE_PATHS = glob.glob(HOME_PATH + '/bach-violin-dataset/dataset/ground-truth/**/*.csv', recursive=True)\n",
    "\n",
    "for i in range(len(FILE_PATHS)):\n",
    "    FILE_PATHS[i] = FILE_PATHS[i].split('ground-truth')[-1]"
   ]
  },
  {
   "cell_type": "code",
   "execution_count": 3,
   "id": "10faa809-5759-4606-acbf-61d18dbe9607",
   "metadata": {
    "tags": []
   },
   "outputs": [],
   "source": [
    "# Split dataset into training and testing sets and store to files under /dataset-paths\n",
    "def dataset_randomizer():\n",
    "    random.shuffle(FILE_PATHS)\n",
    "\n",
    "    # 70/10/20 split for training/testing/validation\n",
    "    training_stop_index = math.floor(0.7 * len(FILE_PATHS)) \n",
    "    testing_stop_index = training_stop_index + math.floor(0.1 * len(FILE_PATHS))\n",
    "\n",
    "    # Splitting and append to arrays\n",
    "    training_source_input_paths = []\n",
    "    training_ground_truth_paths = []\n",
    "    for i in range(training_stop_index):\n",
    "        training_source_input_paths.append('/bach-violin-dataset/dataset/source-input' + FILE_PATHS[i])\n",
    "        training_ground_truth_paths.append('/bach-violin-dataset/dataset/ground-truth' + FILE_PATHS[i])\n",
    "    \n",
    "    testing_source_input_paths = []\n",
    "    testing_ground_truth_paths = []\n",
    "    for i in range(training_stop_index, testing_stop_index):\n",
    "        testing_source_input_paths.append('/bach-violin-dataset/dataset/source-input' + FILE_PATHS[i])\n",
    "        testing_ground_truth_paths.append('/bach-violin-dataset/dataset/ground-truth' + FILE_PATHS[i])\n",
    "\n",
    "    validating_source_input_paths = []\n",
    "    validating_ground_truth_paths = []\n",
    "    for i in range(testing_stop_index, len(FILE_PATHS)):\n",
    "        validating_source_input_paths.append('/bach-violin-dataset/dataset/source-input' + FILE_PATHS[i])\n",
    "        validating_ground_truth_paths.append('/bach-violin-dataset/dataset/ground-truth' + FILE_PATHS[i])\n",
    "\n",
    "    # Write paths to .txt files\n",
    "    if not os.path.isdir(DATASET_PATH):\n",
    "        os.mkdir(DATASET_PATH)\n",
    "\n",
    "    file = open(DATASET_PATH + '/training-source-input.txt','w')\n",
    "    for path in training_source_input_paths:\n",
    "        file.write(path + \"\\n\")\n",
    "    file.close()\n",
    "\n",
    "    file = open(DATASET_PATH + '/training-ground-truth.txt','w')\n",
    "    for path in training_ground_truth_paths:\n",
    "        file.write(path + \"\\n\")\n",
    "    file.close()\n",
    "\n",
    "    file = open(DATASET_PATH + '/testing-source-input.txt','w')\n",
    "    for path in testing_source_input_paths:\n",
    "        file.write(path + \"\\n\")\n",
    "    file.close()\n",
    "\n",
    "    file = open(DATASET_PATH + '/testing-ground-truth.txt','w')\n",
    "    for path in testing_ground_truth_paths:\n",
    "        file.write(path + \"\\n\")\n",
    "    file.close()\n",
    "\n",
    "    file = open(DATASET_PATH + '/validating-source-input.txt','w')\n",
    "    for path in validating_source_input_paths:\n",
    "        file.write(path + \"\\n\")\n",
    "    file.close()\n",
    "\n",
    "    file = open(DATASET_PATH + '/validating-ground-truth.txt','w')\n",
    "    for path in validating_ground_truth_paths:\n",
    "        file.write(path + \"\\n\")\n",
    "    file.close()"
   ]
  },
  {
   "cell_type": "code",
   "execution_count": 4,
   "id": "1260a9e4",
   "metadata": {},
   "outputs": [],
   "source": [
    "dataset_randomizer()"
   ]
  }
 ],
 "metadata": {
  "kernelspec": {
   "display_name": "Python 3 (ipykernel)",
   "language": "python",
   "name": "python3"
  },
  "language_info": {
   "codemirror_mode": {
    "name": "ipython",
    "version": 3
   },
   "file_extension": ".py",
   "mimetype": "text/x-python",
   "name": "python",
   "nbconvert_exporter": "python",
   "pygments_lexer": "ipython3",
   "version": "3.9.18"
  }
 },
 "nbformat": 4,
 "nbformat_minor": 5
}
