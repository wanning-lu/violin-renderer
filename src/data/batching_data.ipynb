{
 "cells": [
  {
   "cell_type": "code",
   "execution_count": null,
   "metadata": {},
   "outputs": [],
   "source": [
    "from torch.utils.data import Dataset"
   ]
  },
  {
   "cell_type": "code",
   "execution_count": null,
   "metadata": {},
   "outputs": [],
   "source": [
    "# Class for batching\n",
    "class MLPMusicDataset(Dataset):\n",
    "    def __init__(self, source_input_data, ground_truth_data, transform=None):\n",
    "        self.source_input_data = source_input_data\n",
    "        self.ground_truth_data = ground_truth_data\n",
    "        self.transform = transform\n",
    "\n",
    "    def __len__(self):\n",
    "        return len(self.source_input_data)\n",
    "\n",
    "    def __getitem__(self, idx):\n",
    "        source_input_sample = self.source_input_data[idx]\n",
    "        ground_truth_sample = self.ground_truth_data[idx]\n",
    "\n",
    "        if self.transform:\n",
    "            source_input_sample = self.transform(source_input_sample)\n",
    "\n",
    "        return source_input_sample, ground_truth_sample"
   ]
  }
 ],
 "metadata": {
  "language_info": {
   "name": "python"
  }
 },
 "nbformat": 4,
 "nbformat_minor": 2
}
