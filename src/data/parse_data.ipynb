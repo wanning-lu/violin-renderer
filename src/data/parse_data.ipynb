{
 "cells": [
  {
   "cell_type": "code",
   "execution_count": null,
   "metadata": {},
   "outputs": [],
   "source": [
    "import csv\n",
    "\n",
    "# Run global_variables\n",
    "%run ~/violin-renderer/src/global_variables.ipynb"
   ]
  },
  {
   "cell_type": "code",
   "execution_count": null,
   "metadata": {},
   "outputs": [],
   "source": [
    "# @param:\n",
    "    # file_path: path to a csv file containing the source onset, offset, pitch, and velocity\n",
    "# @return: a list of tuples of the form (onset, offset, pitch)\n",
    "def parse_source_input_file(file_path):\n",
    "    notes = []\n",
    "\n",
    "    with open(file_path, 'r', encoding='utf-8') as file:\n",
    "        # Assuming your CSV file has a header with column names\n",
    "        csv_reader = csv.DictReader(file)\n",
    "        \n",
    "        for row in csv_reader:\n",
    "            onset = float(row['onset'])\n",
    "            offset = float(row['offset'])\n",
    "            pitch = float(row['pitch'])\n",
    "            # velocity = float(row['velocity']) -> same values so we will not use for now\n",
    "            \n",
    "            notes.append((onset, offset, pitch))\n",
    "    file.close()\n",
    "    \n",
    "    return notes"
   ]
  },
  {
   "cell_type": "code",
   "execution_count": null,
   "metadata": {},
   "outputs": [],
   "source": [
    "# @param:\n",
    "    # file: path to a csv file containing the expressive start and end timings\n",
    "# @return: a list of tuples of the form (start, end)\n",
    "def parse_ground_truth_file(file_path):\n",
    "    notes = []\n",
    "\n",
    "    with open(file_path, 'r', encoding='utf-8') as file:\n",
    "        # Assuming your CSV file has a header with column names\n",
    "        csv_reader = csv.DictReader(file)\n",
    "        \n",
    "        for row in csv_reader:\n",
    "            start = float(row['start'])\n",
    "            end = float(row['end'])\n",
    "            \n",
    "            notes.append((start, end))\n",
    "    file.close()\n",
    "    \n",
    "    return notes"
   ]
  },
  {
   "cell_type": "code",
   "execution_count": null,
   "metadata": {},
   "outputs": [],
   "source": [
    "# @param:\n",
    "    # file: path to a tempo txt file\n",
    "# @return: the tempo of the file\n",
    "def parse_tempo_file(file_path):\n",
    "    tempo = 0\n",
    "\n",
    "    with open(file_path, 'r', encoding='utf-8') as file:\n",
    "        # Read the content of the file\n",
    "        content = file.read()\n",
    "\n",
    "        # Extract the single value in the file\n",
    "        tempo = content.strip()\n",
    "    file.close()\n",
    "\n",
    "    return float(tempo)"
   ]
  },
  {
   "cell_type": "code",
   "execution_count": null,
   "metadata": {},
   "outputs": [],
   "source": [
    "# @return: 2 dictionaries { song path: [values] } from training, including source input and ground truth\n",
    "def load_training_data():\n",
    "    training_data_X = {}\n",
    "    file = open(DATASET_PATH + '/training-source-input.txt', 'r')\n",
    "    while True:\n",
    "        content = file.readline().strip()\n",
    "        if not content:\n",
    "            break\n",
    "        else:\n",
    "            path = HOME_PATH + content\n",
    "            training_data_X[path] = parse_source_input_file(path)\n",
    "    file.close()\n",
    "\n",
    "    training_data_y = {}\n",
    "    file = open(DATASET_PATH + '/training-ground-truth.txt', 'r')\n",
    "    while True:\n",
    "        content = file.readline().strip()\n",
    "        if not content:\n",
    "            break\n",
    "        else:\n",
    "            path = HOME_PATH + content\n",
    "            training_data_y[path] = parse_ground_truth_file(path)\n",
    "    file.close()\n",
    "\n",
    "    return training_data_X, training_data_y"
   ]
  },
  {
   "cell_type": "code",
   "execution_count": null,
   "metadata": {},
   "outputs": [],
   "source": [
    "# @return: 2 dictionaries { song path: [values] } from testing, including source input and ground truth\n",
    "def load_testing_data():\n",
    "    testing_data_X = {}\n",
    "    file = open(DATASET_PATH + '/testing-source-input.txt', 'r')\n",
    "    while True:\n",
    "        content = file.readline().strip()\n",
    "        if not content:\n",
    "            break\n",
    "        else:\n",
    "            path = HOME_PATH + content\n",
    "            testing_data_X[path] = parse_source_input_file(path)\n",
    "    file.close()\n",
    "\n",
    "    testing_data_y = {}\n",
    "    file = open(DATASET_PATH + '/testing-ground-truth.txt', 'r')\n",
    "    while True:\n",
    "        content = file.readline().strip()\n",
    "        if not content:\n",
    "            break\n",
    "        else:\n",
    "            path = HOME_PATH + content\n",
    "            testing_data_y[path] = parse_ground_truth_file(path)\n",
    "    file.close()\n",
    "\n",
    "    return testing_data_X, testing_data_y"
   ]
  },
  {
   "cell_type": "code",
   "execution_count": null,
   "metadata": {},
   "outputs": [],
   "source": [
    "# @return: 2 dictionaries { song path: [values] } from validating, including source input and ground truth\n",
    "def load_validating_data():\n",
    "    validating_data_X = {}\n",
    "    file = open(DATASET_PATH + '/validating-source-input.txt', 'r')\n",
    "    while True:\n",
    "        content = file.readline().strip()\n",
    "        if not content:\n",
    "            break\n",
    "        else:\n",
    "            path = HOME_PATH + content\n",
    "            validating_data_X[path] = parse_source_input_file(path)\n",
    "    file.close()\n",
    "\n",
    "    validating_data_y = {}\n",
    "    file = open(DATASET_PATH + '/validating-ground-truth.txt', 'r')\n",
    "    while True:\n",
    "        content = file.readline().strip()\n",
    "        if not content:\n",
    "            break\n",
    "        else:\n",
    "            path = HOME_PATH + content\n",
    "            validating_data_y[path] = parse_ground_truth_file(path)\n",
    "    file.close()\n",
    "\n",
    "    return validating_data_X, validating_data_y"
   ]
  },
  {
   "cell_type": "code",
   "execution_count": null,
   "metadata": {},
   "outputs": [],
   "source": [
    "# load_training_data()\n",
    "# load_testing_data()\n",
    "# load_validating_data()"
   ]
  }
 ],
 "metadata": {
  "kernelspec": {
   "display_name": "Python 3 (ipykernel)",
   "language": "python",
   "name": "python3"
  },
  "language_info": {
   "codemirror_mode": {
    "name": "ipython",
    "version": 3
   },
   "file_extension": ".py",
   "mimetype": "text/x-python",
   "name": "python",
   "nbconvert_exporter": "python",
   "pygments_lexer": "ipython3",
   "version": "3.9.18"
  }
 },
 "nbformat": 4,
 "nbformat_minor": 4
}
