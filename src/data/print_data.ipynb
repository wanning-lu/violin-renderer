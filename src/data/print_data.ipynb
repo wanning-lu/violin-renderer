{
 "cells": [
  {
   "cell_type": "code",
   "execution_count": null,
   "metadata": {},
   "outputs": [],
   "source": [
    "import os\n",
    "\n",
    "# Run global_variables and parse_data\n",
    "%run ~/violin-renderer/src/global_variables.ipynb\n",
    "%run ~/violin-renderer/src/data/parse_data.ipynb"
   ]
  },
  {
   "cell_type": "code",
   "execution_count": null,
   "metadata": {},
   "outputs": [],
   "source": [
    "# @test: Print all input files in the format -> file name: [(onset, offset, pitch), ...]\n",
    "def print_source_input():\n",
    "    source_path = HOME_PATH + '/bach-violin-dataset/dataset/source-input'\n",
    "\n",
    "    composer_directories = os.listdir(source_path)\n",
    "    for composer_directory in composer_directories:\n",
    "        song_names = os.listdir(source_path + '/' + composer_directory)\n",
    "        for name in song_names:\n",
    "            song_files = os.listdir(source_path + '/' + composer_directory + '/' + name)\n",
    "            for file in song_files:\n",
    "                song_path = source_path + '/' + composer_directory + '/' + name + '/' + file\n",
    "                print(file + \": \", parse_source_input_file(song_path), '\\n')\n",
    "\n",
    "# print_source_input()"
   ]
  },
  {
   "cell_type": "code",
   "execution_count": null,
   "metadata": {},
   "outputs": [],
   "source": [
    "# @test: Print all ground-truth files in the format -> file name: [(start, end), ...]\n",
    "def print_ground_truth():\n",
    "    source_path = HOME_PATH + '/bach-violin-dataset/dataset/ground-truth'\n",
    "\n",
    "    composer_directories = os.listdir(source_path)\n",
    "    for composer_directory in composer_directories:\n",
    "        song_names = os.listdir(source_path + '/' + composer_directory)\n",
    "        for name in song_names:\n",
    "            song_files = os.listdir(source_path + '/' + composer_directory + '/' + name)\n",
    "            for file in song_files:\n",
    "                song_path = source_path + '/' + composer_directory + '/' + name + '/' + file\n",
    "                print(file + \": \", parse_ground_truth_file(song_path), '\\n')\n",
    "\n",
    "# print_ground_truth()"
   ]
  },
  {
   "cell_type": "code",
   "execution_count": null,
   "metadata": {},
   "outputs": [],
   "source": [
    "# @test: Print all tempo files in the format -> file name: tempo\n",
    "def print_tempo():\n",
    "    source_path = HOME_PATH + '/bach-violin-dataset/dataset/tempos'\n",
    "\n",
    "    composer_directories = os.listdir(source_path)\n",
    "    for composer_directory in composer_directories:\n",
    "        song_names = os.listdir(source_path + '/' + composer_directory)\n",
    "        for name in song_names:\n",
    "            song_files = os.listdir(source_path + '/' + composer_directory + '/' + name)\n",
    "            for file in song_files:\n",
    "                song_path = source_path + '/' + composer_directory + '/' + name + '/' + file\n",
    "                print(file + \": \", parse_tempo_file(song_path), '\\n')\n",
    "\n",
    "    return res"
   ]
  }
 ],
 "metadata": {
  "kernelspec": {
   "display_name": "music-gen",
   "language": "python",
   "name": "python3"
  },
  "language_info": {
   "codemirror_mode": {
    "name": "ipython",
    "version": 3
   },
   "file_extension": ".py",
   "mimetype": "text/x-python",
   "name": "python",
   "nbconvert_exporter": "python",
   "pygments_lexer": "ipython3",
   "version": "3.9.18"
  }
 },
 "nbformat": 4,
 "nbformat_minor": 2
}
