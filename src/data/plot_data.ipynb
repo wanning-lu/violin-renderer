{
 "cells": [
  {
   "cell_type": "code",
   "execution_count": null,
   "metadata": {},
   "outputs": [],
   "source": [
    "import numpy as np\n",
    "import matplotlib.pyplot as plt\n",
    "import matplotlib.patches as mpatches\n",
    "\n",
    "# Run parse_data\n",
    "%run ~/violin-renderer/src/data/parse_data.ipynb\n",
    "\n",
    "BEATS = 256\n",
    "RESOLUTION = 24"
   ]
  },
  {
   "cell_type": "code",
   "execution_count": null,
   "metadata": {},
   "outputs": [],
   "source": [
    "# Plot offset values with frequency to justify the reason behind filtering at a certain offset for MLP\n",
    "\n",
    "# load all datasets\n",
    "training_X, _ = load_training_data()\n",
    "testing_X, _ = load_testing_data()\n",
    "validating_X, _ = load_validating_data()\n",
    "\n",
    "# append all offset\n",
    "all_offset = []\n",
    "\n",
    "for song in training_X.values():\n",
    "    for _ , offset, _ in song:\n",
    "        all_offset.append(offset)\n",
    "        \n",
    "for song in testing_X.values():\n",
    "    for _ , offset, _ in song:\n",
    "        all_offset.append(offset)\n",
    "\n",
    "for song in validating_X.values():\n",
    "    for _ , offset, _ in song:\n",
    "        all_offset.append(offset)\n",
    "\n",
    "# calculate frequencies\n",
    "freq = {}\n",
    "for offset in all_offset:\n",
    "    freq[offset] = 1 + freq.get(offset, 0)\n",
    "\n",
    "# plot\n",
    "counts, bins, patches = plt.hist(freq, bins=20, edgecolor='black', align='left')\n",
    "plt.xlabel('Offset Value', fontsize=17)\n",
    "plt.ylabel('Frequency', fontsize=17)\n",
    "plt.title('Histogram of Offset Values', fontsize=17)\n",
    "plt.xticks(fontsize=15)\n",
    "plt.yticks(fontsize=15)\n",
    "\n",
    "# Set different colors for the left and right of the boundary\n",
    "for i in range(len(patches)):\n",
    "    if bins[i] < BEATS * RESOLUTION:\n",
    "        patches[i].set_facecolor('blue')\n",
    "    else:\n",
    "        patches[i].set_facecolor('gray')\n",
    "\n",
    "# Adding the legend with custom handles\n",
    "train_loss_legend = mpatches.Patch(color='blue', label='Keep')\n",
    "validate_loss_legend = mpatches.Patch(color='gray', label='Filtered Out')\n",
    "plt.legend(handles=[train_loss_legend, validate_loss_legend], fontsize=15)\n",
    "plt.axvline(x=BEATS * RESOLUTION, color='red', linestyle='--', linewidth=2)\n",
    "\n",
    "# print some values\n",
    "print('Min offset:', min(all_offset))\n",
    "print('Max offset:', max(all_offset))\n",
    "print('Total notes:', len(all_offset))"
   ]
  }
 ],
 "metadata": {
  "kernelspec": {
   "display_name": "music-gen",
   "language": "python",
   "name": "python3"
  },
  "language_info": {
   "codemirror_mode": {
    "name": "ipython",
    "version": 3
   },
   "file_extension": ".py",
   "mimetype": "text/x-python",
   "name": "python",
   "nbconvert_exporter": "python",
   "pygments_lexer": "ipython3",
   "version": "3.9.18"
  }
 },
 "nbformat": 4,
 "nbformat_minor": 2
}
