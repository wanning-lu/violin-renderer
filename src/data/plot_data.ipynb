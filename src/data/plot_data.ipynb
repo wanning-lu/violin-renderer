{
 "cells": [
  {
   "cell_type": "code",
   "execution_count": null,
   "metadata": {},
   "outputs": [],
   "source": [
    "import numpy as np\n",
    "import matplotlib.pyplot as plt\n",
    "\n",
    "# Run parse_data\n",
    "%run ~/violin-renderer/src/data/parse_data.ipynb"
   ]
  },
  {
   "cell_type": "code",
   "execution_count": null,
   "metadata": {},
   "outputs": [],
   "source": [
    "# Plot offset values with frequency to justify the reason behind filtering at a certain offset for MLP\n",
    "\n",
    "# load all datasets\n",
    "training_X, _ = load_training_data()\n",
    "testing_X, _ = load_testing_data()\n",
    "validating_X, _ = load_validating_data()\n",
    "\n",
    "# append all offset\n",
    "all_offset = []\n",
    "\n",
    "for song in training_X.values():\n",
    "    for _ , offset, _ in song:\n",
    "        all_offset.append(offset)\n",
    "        \n",
    "for song in testing_X.values():\n",
    "    for _ , offset, _ in song:\n",
    "        all_offset.append(offset)\n",
    "\n",
    "for song in validating_X.values():\n",
    "    for _ , offset, _ in song:\n",
    "        all_offset.append(offset)\n",
    "\n",
    "# calculate frequencies\n",
    "freq = {}\n",
    "for offset in all_offset:\n",
    "    freq[offset] = 1 + freq.get(offset, 0)\n",
    "\n",
    "# plot\n",
    "plt.hist(freq, edgecolor='black', align='left')\n",
    "plt.xlabel('Offset Values')\n",
    "plt.ylabel('Frequency')\n",
    "plt.title('Histogram of Offset Values')\n",
    "\n",
    "# print some values\n",
    "print('Min offset:', min(all_offset))\n",
    "print('Max offset:', max(all_offset))\n",
    "print('Total notes:', len(all_offset))"
   ]
  }
 ],
 "metadata": {
  "kernelspec": {
   "display_name": "music-gen",
   "language": "python",
   "name": "python3"
  },
  "language_info": {
   "codemirror_mode": {
    "name": "ipython",
    "version": 3
   },
   "file_extension": ".py",
   "mimetype": "text/x-python",
   "name": "python",
   "nbconvert_exporter": "python",
   "pygments_lexer": "ipython3",
   "version": "3.9.18"
  }
 },
 "nbformat": 4,
 "nbformat_minor": 2
}
