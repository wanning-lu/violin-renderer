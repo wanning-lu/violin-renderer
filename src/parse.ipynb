{
 "cells": [
  {
   "cell_type": "code",
   "execution_count": 1,
   "metadata": {},
   "outputs": [],
   "source": [
    "import os\n",
    "import csv"
   ]
  },
  {
   "cell_type": "code",
   "execution_count": 2,
   "metadata": {},
   "outputs": [],
   "source": [
    "#  @param file - the path to a csv file from this directory.\n",
    "#  prints all the contents of the csv file\n",
    "def printFile(file):\n",
    "    with open(file, 'r', encoding='utf-8') as file:\n",
    "        csv_str = file.read()\n",
    "    print(csv_str)"
   ]
  },
  {
   "cell_type": "code",
   "execution_count": 3,
   "metadata": {},
   "outputs": [],
   "source": [
    "#  @param file - the path to a csv file from this directory.\n",
    "#  @returns a list of tuples of the form (onset, offset, pitch)\n",
    "def parseInputFile(file):\n",
    "    result = []\n",
    "\n",
    "    with open(file, 'r', encoding='utf-8') as csvfile:\n",
    "        # Assuming your CSV file has a header with column names\n",
    "        csvreader = csv.DictReader(csvfile)\n",
    "        \n",
    "        for row in csvreader:\n",
    "            onset = float(row['onset'])\n",
    "            offset = float(row['offset'])\n",
    "            pitch = float(row['pitch'])\n",
    "            # velocity = float(row['velocity']) -> same values so we will not use for now\n",
    "            \n",
    "            result.append((onset, offset, pitch))\n",
    "\n",
    "    return result"
   ]
  },
  {
   "cell_type": "code",
   "execution_count": 4,
   "metadata": {},
   "outputs": [],
   "source": [
    "#  @param file - the path to a csv file from this directory.\n",
    "#  @returns a list of tuples of the form (start, end)\n",
    "def parseGroundtruthFile(file):\n",
    "    result = []\n",
    "\n",
    "    with open(file, 'r', encoding='utf-8') as csvfile:\n",
    "        # Assuming your CSV file has a header with column names\n",
    "        csvreader = csv.DictReader(csvfile)\n",
    "        \n",
    "        for row in csvreader:\n",
    "            start = float(row['start'])\n",
    "            end = float(row['end'])\n",
    "            \n",
    "            result.append((start, end))\n",
    "\n",
    "    return result"
   ]
  },
  {
   "cell_type": "code",
   "execution_count": 5,
   "metadata": {},
   "outputs": [],
   "source": [
    "#  @param file - the path to a txt file from this directory.\n",
    "#  @returns a list of tuples of the form (onset, offset, pitch)\n",
    "def parseTempoFile(file):\n",
    "    result = 0\n",
    "\n",
    "    with open(file, 'r', encoding='utf-8') as file:\n",
    "        # Read the content of the file\n",
    "        content = file.read()\n",
    "\n",
    "        # Extract the single value in the file\n",
    "        result = content.strip()\n",
    "\n",
    "    return float(result)"
   ]
  },
  {
   "cell_type": "code",
   "execution_count": 6,
   "metadata": {},
   "outputs": [],
   "source": [
    "# Script to print all source-input files in the format -> file name: [(onset, offset, pitch), ...]\n",
    "# source_path = '../bach-violin-dataset/dataset/source-input/'\n",
    "\n",
    "# composer_directories = os.listdir(source_path)\n",
    "# for composer_directory in composer_directories:\n",
    "#     song_names = os.listdir(source_path + composer_directory)\n",
    "#     for name in song_names:\n",
    "#         song_files = os.listdir(source_path + composer_directory + '/' + name)\n",
    "#         for file in song_files:\n",
    "#             song_path = source_path + composer_directory + '/' + name + '/' + file\n",
    "#             print(file + \": \", parseInputFile(song_path), '\\n')"
   ]
  },
  {
   "cell_type": "code",
   "execution_count": 7,
   "metadata": {},
   "outputs": [],
   "source": [
    "# Script to print all ground-truth files in the format -> file name: [(start, end), ...]\n",
    "# source_path = '../bach-violin-dataset/dataset/ground-truth/'\n",
    "\n",
    "# composer_directories = os.listdir(source_path)\n",
    "# for composer_directory in composer_directories:\n",
    "#     song_names = os.listdir(source_path + composer_directory)\n",
    "#     for name in song_names:\n",
    "#         song_files = os.listdir(source_path + composer_directory + '/' + name)\n",
    "#         for file in song_files:\n",
    "#             song_path = source_path + composer_directory + '/' + name + '/' + file\n",
    "#             print(file + \": \", parseGroundtruthFile(song_path), '\\n')"
   ]
  },
  {
   "cell_type": "code",
   "execution_count": 8,
   "metadata": {},
   "outputs": [],
   "source": [
    "# Script to print all tempo files in the format -> file name: tempo]\n",
    "# source_path = '../bach-violin-dataset/dataset/tempos/'\n",
    "\n",
    "# composer_directories = os.listdir(source_path)\n",
    "# for composer_directory in composer_directories:\n",
    "#     song_names = os.listdir(source_path + composer_directory)\n",
    "#     for name in song_names:\n",
    "#         song_files = os.listdir(source_path + composer_directory + '/' + name)\n",
    "#         for file in song_files:\n",
    "#             song_path = source_path + composer_directory + '/' + name + '/' + file\n",
    "#             print(file + \": \", parseTempoFile(song_path), '\\n')"
   ]
  }
 ],
 "metadata": {
  "kernelspec": {
   "display_name": "base",
   "language": "python",
   "name": "python3"
  },
  "language_info": {
   "codemirror_mode": {
    "name": "ipython",
    "version": 3
   },
   "file_extension": ".py",
   "mimetype": "text/x-python",
   "name": "python",
   "nbconvert_exporter": "python",
   "pygments_lexer": "ipython3",
   "version": "3.11.2"
  }
 },
 "nbformat": 4,
 "nbformat_minor": 2
}
