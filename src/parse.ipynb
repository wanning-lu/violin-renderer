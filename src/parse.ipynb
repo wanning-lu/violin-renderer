{
 "cells": [
  {
   "cell_type": "code",
   "execution_count": 1,
   "metadata": {},
   "outputs": [],
   "source": [
    "import os\n",
    "import csv"
   ]
  },
  {
   "cell_type": "code",
   "execution_count": 2,
   "metadata": {},
   "outputs": [],
   "source": [
    "#  @param file - the path to a csv file from this directory.\n",
    "#  prints all the contents of the csv file\n",
    "def printFile(file):\n",
    "    with open(file, 'r', encoding='utf-8') as file:\n",
    "        csv_str = file.read()\n",
    "    print(csv_str)"
   ]
  },
  {
   "cell_type": "code",
   "execution_count": 3,
   "metadata": {},
   "outputs": [],
   "source": [
    "#  @param file - the path to a csv file from this directory.\n",
    "#  @returns a list of tuples of the form (onset, offset, pitch, velocity)\n",
    "def parseFile(file):\n",
    "    result = []\n",
    "\n",
    "    with open(file, 'r', encoding='utf-8') as csvfile:\n",
    "        # Assuming your CSV file has a header with column names\n",
    "        csvreader = csv.DictReader(csvfile)\n",
    "        \n",
    "        for row in csvreader:\n",
    "            onset = float(row['onset'])\n",
    "            offset = float(row['offset'])\n",
    "            pitch = float(row['pitch'])\n",
    "            velocity = float(row['velocity'])\n",
    "            \n",
    "            result.append((onset, offset, pitch, velocity))\n",
    "\n",
    "    return result"
   ]
  },
  {
   "cell_type": "code",
   "execution_count": 4,
   "metadata": {},
   "outputs": [
    {
     "name": "stdout",
     "output_type": "stream",
     "text": [
      "kinga-augustyn\n"
     ]
    },
    {
     "ename": "IsADirectoryError",
     "evalue": "[Errno 21] Is a directory: '../bach-violin-dataset/dataset/source-input/misc/kinga-augustyn'",
     "output_type": "error",
     "traceback": [
      "\u001b[0;31m---------------------------------------------------------------------------\u001b[0m",
      "\u001b[0;31mIsADirectoryError\u001b[0m                         Traceback (most recent call last)",
      "\u001b[1;32m/Users/chezzie/Documents/School/ERSP/violin-renderer/src/parse.ipynb Cell 4\u001b[0m line \u001b[0;36m9\n\u001b[1;32m      <a href='vscode-notebook-cell:/Users/chezzie/Documents/School/ERSP/violin-renderer/src/parse.ipynb#W3sZmlsZQ%3D%3D?line=6'>7</a>\u001b[0m song_path \u001b[39m=\u001b[39m source_path \u001b[39m+\u001b[39m composer_directory \u001b[39m+\u001b[39m \u001b[39m'\u001b[39m\u001b[39m/\u001b[39m\u001b[39m'\u001b[39m \u001b[39m+\u001b[39m file\n\u001b[1;32m      <a href='vscode-notebook-cell:/Users/chezzie/Documents/School/ERSP/violin-renderer/src/parse.ipynb#W3sZmlsZQ%3D%3D?line=7'>8</a>\u001b[0m \u001b[39mprint\u001b[39m(file)\n\u001b[0;32m----> <a href='vscode-notebook-cell:/Users/chezzie/Documents/School/ERSP/violin-renderer/src/parse.ipynb#W3sZmlsZQ%3D%3D?line=8'>9</a>\u001b[0m \u001b[39mprint\u001b[39m(parseFile(song_path), \u001b[39m'\u001b[39m\u001b[39m\\n\u001b[39;00m\u001b[39m'\u001b[39m)\n",
      "\u001b[1;32m/Users/chezzie/Documents/School/ERSP/violin-renderer/src/parse.ipynb Cell 4\u001b[0m line \u001b[0;36m6\n\u001b[1;32m      <a href='vscode-notebook-cell:/Users/chezzie/Documents/School/ERSP/violin-renderer/src/parse.ipynb#W3sZmlsZQ%3D%3D?line=2'>3</a>\u001b[0m \u001b[39mdef\u001b[39;00m \u001b[39mparseFile\u001b[39m(file):\n\u001b[1;32m      <a href='vscode-notebook-cell:/Users/chezzie/Documents/School/ERSP/violin-renderer/src/parse.ipynb#W3sZmlsZQ%3D%3D?line=3'>4</a>\u001b[0m     result \u001b[39m=\u001b[39m []\n\u001b[0;32m----> <a href='vscode-notebook-cell:/Users/chezzie/Documents/School/ERSP/violin-renderer/src/parse.ipynb#W3sZmlsZQ%3D%3D?line=5'>6</a>\u001b[0m     \u001b[39mwith\u001b[39;00m \u001b[39mopen\u001b[39;49m(file, \u001b[39m'\u001b[39;49m\u001b[39mr\u001b[39;49m\u001b[39m'\u001b[39;49m, encoding\u001b[39m=\u001b[39;49m\u001b[39m'\u001b[39;49m\u001b[39mutf-8\u001b[39;49m\u001b[39m'\u001b[39;49m) \u001b[39mas\u001b[39;00m csvfile:\n\u001b[1;32m      <a href='vscode-notebook-cell:/Users/chezzie/Documents/School/ERSP/violin-renderer/src/parse.ipynb#W3sZmlsZQ%3D%3D?line=6'>7</a>\u001b[0m         \u001b[39m# Assuming your CSV file has a header with column names\u001b[39;00m\n\u001b[1;32m      <a href='vscode-notebook-cell:/Users/chezzie/Documents/School/ERSP/violin-renderer/src/parse.ipynb#W3sZmlsZQ%3D%3D?line=7'>8</a>\u001b[0m         csvreader \u001b[39m=\u001b[39m csv\u001b[39m.\u001b[39mDictReader(csvfile)\n\u001b[1;32m     <a href='vscode-notebook-cell:/Users/chezzie/Documents/School/ERSP/violin-renderer/src/parse.ipynb#W3sZmlsZQ%3D%3D?line=9'>10</a>\u001b[0m         \u001b[39mfor\u001b[39;00m row \u001b[39min\u001b[39;00m csvreader:\n",
      "File \u001b[0;32m~/Library/Python/3.11/lib/python/site-packages/IPython/core/interactiveshell.py:308\u001b[0m, in \u001b[0;36m_modified_open\u001b[0;34m(file, *args, **kwargs)\u001b[0m\n\u001b[1;32m    301\u001b[0m \u001b[39mif\u001b[39;00m file \u001b[39min\u001b[39;00m {\u001b[39m0\u001b[39m, \u001b[39m1\u001b[39m, \u001b[39m2\u001b[39m}:\n\u001b[1;32m    302\u001b[0m     \u001b[39mraise\u001b[39;00m \u001b[39mValueError\u001b[39;00m(\n\u001b[1;32m    303\u001b[0m         \u001b[39mf\u001b[39m\u001b[39m\"\u001b[39m\u001b[39mIPython won\u001b[39m\u001b[39m'\u001b[39m\u001b[39mt let you open fd=\u001b[39m\u001b[39m{\u001b[39;00mfile\u001b[39m}\u001b[39;00m\u001b[39m by default \u001b[39m\u001b[39m\"\u001b[39m\n\u001b[1;32m    304\u001b[0m         \u001b[39m\"\u001b[39m\u001b[39mas it is likely to crash IPython. If you know what you are doing, \u001b[39m\u001b[39m\"\u001b[39m\n\u001b[1;32m    305\u001b[0m         \u001b[39m\"\u001b[39m\u001b[39myou can use builtins\u001b[39m\u001b[39m'\u001b[39m\u001b[39m open.\u001b[39m\u001b[39m\"\u001b[39m\n\u001b[1;32m    306\u001b[0m     )\n\u001b[0;32m--> 308\u001b[0m \u001b[39mreturn\u001b[39;00m io_open(file, \u001b[39m*\u001b[39;49margs, \u001b[39m*\u001b[39;49m\u001b[39m*\u001b[39;49mkwargs)\n",
      "\u001b[0;31mIsADirectoryError\u001b[0m: [Errno 21] Is a directory: '../bach-violin-dataset/dataset/source-input/misc/kinga-augustyn'"
     ]
    }
   ],
   "source": [
    "# A test case with output is in the format: file name + [(onset, offset, pitch, velocity), ...]\n",
    "# source_path = '../bach-violin-dataset/dataset/source-input/'\n",
    "# composer_directories = os.listdir(source_path)\n",
    "# for composer_directory in composer_directories:\n",
    "#     song_files = os.listdir(source_path + composer_directory)\n",
    "#     for file in song_files:\n",
    "#         song_path = source_path + composer_directory + '/' + file\n",
    "#         print(file)\n",
    "#         print(parseFile(song_path), '\\n')"
   ]
  },
  {
   "cell_type": "code",
   "execution_count": null,
   "metadata": {},
   "outputs": [],
   "source": []
  }
 ],
 "metadata": {
  "kernelspec": {
   "display_name": "base",
   "language": "python",
   "name": "python3"
  },
  "language_info": {
   "codemirror_mode": {
    "name": "ipython",
    "version": 3
   },
   "file_extension": ".py",
   "mimetype": "text/x-python",
   "name": "python",
   "nbconvert_exporter": "python",
   "pygments_lexer": "ipython3",
   "version": "3.11.2"
  }
 },
 "nbformat": 4,
 "nbformat_minor": 2
}
