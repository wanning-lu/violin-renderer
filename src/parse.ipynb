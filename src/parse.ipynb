{
 "cells": [
  {
   "cell_type": "code",
   "execution_count": 1,
   "metadata": {},
   "outputs": [],
   "source": [
    "import os\n",
    "import csv"
   ]
  },
  {
   "cell_type": "code",
   "execution_count": 2,
   "metadata": {},
   "outputs": [],
   "source": [
    "#  @param file - the path to a csv file from this directory.\n",
    "#  prints all the contents of the csv file\n",
    "def printFile(file):\n",
    "    with open(file, 'r', encoding='utf-8') as file:\n",
    "        csv_str = file.read()\n",
    "    print(csv_str)"
   ]
  },
  {
   "cell_type": "code",
   "execution_count": 3,
   "metadata": {},
   "outputs": [],
   "source": [
    "#  @param file - the path to a csv file from this directory.\n",
    "#  @returns a list of tuples of the form (onset, offset, pitch, velocity)\n",
    "def parseFile(file):\n",
    "    result = []\n",
    "\n",
    "    with open(file, 'r', encoding='utf-8') as csvfile:\n",
    "        # Assuming your CSV file has a header with column names\n",
    "        csvreader = csv.DictReader(csvfile)\n",
    "        \n",
    "        for row in csvreader:\n",
    "            onset = float(row['onset'])\n",
    "            offset = float(row['offset'])\n",
    "            pitch = float(row['pitch'])\n",
    "            velocity = float(row['velocity'])\n",
    "            \n",
    "            result.append((onset, offset, pitch, velocity))\n",
    "\n",
    "    return result"
   ]
  },
  {
   "cell_type": "code",
   "execution_count": null,
   "metadata": {},
   "outputs": [],
   "source": [
    "# A test case with output is in the format: file name + [(onset, offset, pitch, velocity), ...]\n",
    "source_path = '../bach-violin-dataset/dataset/source-input/'\n",
    "composer_directories = os.listdir(source_path)\n",
    "for composer_directory in composer_directories:\n",
    "    song_files = os.listdir(source_path + composer_directory)\n",
    "    for file in song_files:\n",
    "        song_path = source_path + composer_directory + '/' + file\n",
    "        print(file)\n",
    "        print(parseFile(song_path), '\\n')"
   ]
  },
  {
   "cell_type": "code",
   "execution_count": null,
   "metadata": {},
   "outputs": [],
   "source": []
  }
 ],
 "metadata": {
  "kernelspec": {
   "display_name": "base",
   "language": "python",
   "name": "python3"
  },
  "language_info": {
   "codemirror_mode": {
    "name": "ipython",
    "version": 3
   },
   "file_extension": ".py",
   "mimetype": "text/x-python",
   "name": "python",
   "nbconvert_exporter": "python",
   "pygments_lexer": "ipython3",
   "version": "3.11.4"
  }
 },
 "nbformat": 4,
 "nbformat_minor": 2
}
