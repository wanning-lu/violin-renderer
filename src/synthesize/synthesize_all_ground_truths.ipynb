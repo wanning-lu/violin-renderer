{
 "cells": [
  {
   "cell_type": "code",
   "execution_count": null,
   "metadata": {},
   "outputs": [],
   "source": [
    "import os \n",
    "\n",
    "# Run global_variables and synthesize_functions\n",
    "%run ~/violin-renderer/src/global_variables.ipynb\n",
    "%run ~/violin-renderer/src/synthesize/synthesize_functions.ipynb"
   ]
  },
  {
   "cell_type": "code",
   "execution_count": null,
   "metadata": {},
   "outputs": [],
   "source": [
    "# Create an output directory in /src and synthesize all songs from ground-truth\n",
    "NOTES_PATH =  HOME_PATH + '/bach-violin-dataset/dataset/source-input'\n",
    "TIMINGS_PATH =  HOME_PATH + '/bach-violin-dataset/dataset/ground-truth'\n",
    "OUTPUT_PATH = HOME_PATH + '/src/ground-truth-audio'\n",
    "composer_directories = os.listdir(NOTES_PATH)\n",
    "\n",
    "if not os.path.isdir(OUTPUT_PATH):\n",
    "    os.mkdir(OUTPUT_PATH)\n",
    "\n",
    "for composer_directory in composer_directories:\n",
    "    song_names = os.listdir(NOTES_PATH + '/' + composer_directory)\n",
    "    os.mkdir(OUTPUT_PATH + '/' + composer_directory)\n",
    "\n",
    "    for name in song_names:\n",
    "        song_files = os.listdir(NOTES_PATH + '/' + composer_directory + '/' + name)\n",
    "        os.mkdir(OUTPUT_PATH + '/' + composer_directory + '/' + name)\n",
    "\n",
    "        for file in song_files:\n",
    "            notes_path = NOTES_PATH + '/' + composer_directory + '/' + name + '/' + file\n",
    "            timings_path = TIMINGS_PATH + '/' + composer_directory + '/' + name + '/' + file\n",
    "            output_path = OUTPUT_PATH + '/' + composer_directory + '/' + name + '/'\n",
    "            output_name = file.replace('.csv', '')\n",
    "\n",
    "            synthesize_ground_truth(notes_path, timings_path, output_path, output_name)"
   ]
  }
 ],
 "metadata": {
  "kernelspec": {
   "display_name": "music-gen",
   "language": "python",
   "name": "python3"
  },
  "language_info": {
   "codemirror_mode": {
    "name": "ipython",
    "version": 3
   },
   "file_extension": ".py",
   "mimetype": "text/x-python",
   "name": "python",
   "nbconvert_exporter": "python",
   "pygments_lexer": "ipython3",
   "version": "3.9.18"
  }
 },
 "nbformat": 4,
 "nbformat_minor": 2
}
