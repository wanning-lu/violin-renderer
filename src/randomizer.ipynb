{
 "cells": [
  {
   "cell_type": "code",
   "execution_count": 17,
   "id": "ee3d06a8",
   "metadata": {},
   "outputs": [],
   "source": [
    "import glob\n",
    "\n",
    "file_paths = glob.glob('../bach-violin-dataset/dataset/ground-truth/**/*.csv', recursive=True)\n",
    "\n",
    "for i in range(len(file_paths)):\n",
    "    file_paths[i] = file_paths[i][43:]"
   ]
  },
  {
   "cell_type": "code",
   "execution_count": 18,
   "id": "10faa809-5759-4606-acbf-61d18dbe9607",
   "metadata": {
    "tags": []
   },
   "outputs": [],
   "source": [
    "import random\n",
    "import math\n",
    "\n",
    "# # Map Index\n",
    "# dict_mapping = {}\n",
    "# for idx, path in enumerate(file_paths, start = 1):\n",
    "#     dict_mapping[idx] = path\n",
    "\n",
    "# # Size = 90% * length of dictionary\n",
    "# size = (int) (0.8 * len(dict_mapping))\n",
    "\n",
    "# random_listing = random.sample(list(dict_mapping.keys()), size)\n",
    "# print(random_listing)\n",
    "# print(\"\\nEntire Random Listing:\")\n",
    "\n",
    "# gather_paths = []\n",
    "# for idx in random_listing:\n",
    "#     gather_paths.append(dict_mapping[idx])\n",
    "# for file in gather_paths:\n",
    "#     print(file)\n",
    "\n",
    "def data_loader():\n",
    "    random.shuffle(file_paths)\n",
    "\n",
    "    training_X_paths = []\n",
    "    training_y_paths = []\n",
    "    testing_X_paths = []\n",
    "    testing_y_paths = []\n",
    "\n",
    "    training_stop_index = math.floor(0.8 * len(file_paths)) # 80/20 split for training/testing\n",
    "\n",
    "    for i in range(training_stop_index):\n",
    "        training_X_paths.append('../bach-violin-dataset/dataset/source-input' + file_paths[i])\n",
    "        training_y_paths.append('../bach-violin-dataset/dataset/ground-truth' + file_paths[i])\n",
    "    for i in range(training_stop_index, len(file_paths)):\n",
    "        testing_X_paths.append('../bach-violin-dataset/dataset/source-input' + file_paths[i])\n",
    "        testing_y_paths.append('../bach-violin-dataset/dataset/ground-truth' + file_paths[i])\n",
    "\n",
    "    return training_X_paths, training_y_paths, testing_X_paths, testing_y_paths\n",
    "    \n",
    "\n",
    "# distribution = (int) (0.5 * len(gather_paths)) # Note : 50% | 50%\n",
    "# training_set = gather_paths[:distribution]\n",
    "# validate_set = gather_paths[distribution:]\n",
    "\n",
    "# print(\"\\nTraining Set:\")\n",
    "# for path in training_set:\n",
    "#     print(path)\n",
    "# print(\"\\nValidate Set:\")\n",
    "# for path in validate_set:\n",
    "#     print(path)\n"
   ]
  }
 ],
 "metadata": {
  "kernelspec": {
   "display_name": "Python 3 (ipykernel)",
   "language": "python",
   "name": "python3"
  },
  "language_info": {
   "codemirror_mode": {
    "name": "ipython",
    "version": 3
   },
   "file_extension": ".py",
   "mimetype": "text/x-python",
   "name": "python",
   "nbconvert_exporter": "python",
   "pygments_lexer": "ipython3",
   "version": "3.11.2"
  }
 },
 "nbformat": 4,
 "nbformat_minor": 5
}
