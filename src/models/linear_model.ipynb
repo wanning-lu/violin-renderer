{
 "cells": [
  {
   "cell_type": "code",
   "execution_count": null,
   "metadata": {
    "executionInfo": {
     "elapsed": 23,
     "status": "ok",
     "timestamp": 1707086929319,
     "user": {
      "displayName": "Wanning Lu",
      "userId": "09623306388777366715"
     },
     "user_tz": 480
    },
    "id": "5V5IE9c-Pn3n"
   },
   "outputs": [],
   "source": [
    "import os\n",
    "import numpy as np\n",
    "import matplotlib.pyplot as plt\n",
    "from sklearn import linear_model\n",
    "from sklearn.metrics import mean_squared_error, r2_score\n",
    "%run ~/violin-renderer/src/misc/parse.ipynb\n",
    "# %run ~/violin-renderer/src/misc/randomizer.ipynb"
   ]
  },
  {
   "cell_type": "code",
   "execution_count": null,
   "metadata": {},
   "outputs": [],
   "source": [
    "HOME_DIR = os.path.expanduser(\"~\")"
   ]
  },
  {
   "cell_type": "code",
   "execution_count": null,
   "metadata": {},
   "outputs": [],
   "source": [
    "# Load all the datasets\n",
    "training_X, training_y, testing_X, testing_y = load_from_paths(HOME_DIR)\n",
    "\n",
    "# Note: for training we just need to combine every song into an array\n",
    "# We remake so we have 2 different models for (onset, pitch) -> start and (offset, pitch) -> end\n",
    "training_X_onset = [(pair[0], pair[2]) for song in training_X for pair in song]\n",
    "training_X_offset = [(pair[1], pair[2]) for song in training_X for pair in song]\n",
    "training_y_start = [pair[0] for song in training_y for pair in song]\n",
    "training_y_end = [pair[1] for song in training_y for pair in song]\n",
    "\n",
    "# Remake based on the same logic as above, but we dont combine every songs\n",
    "testing_X_onset = [[(pair[0], pair[2]) for pair in song] for song in testing_X]\n",
    "testing_X_offset = [[(pair[1], pair[2]) for pair in song] for song in testing_X]\n",
    "testing_y_start = [[pair[0] for pair in song] for song in testing_y]\n",
    "testing_y_end = [[pair[1] for pair in song] for song in testing_y]"
   ]
  },
  {
   "cell_type": "code",
   "execution_count": null,
   "metadata": {},
   "outputs": [],
   "source": [
    "# Linear regression model to predict onset\n",
    "def LR_onset():\n",
    "    model_onset = linear_model.LinearRegression()\n",
    "    model_onset.fit(training_X_onset, training_y_start)\n",
    "    return model_onset\n",
    "\n",
    "# Linear regression model to predict offset\n",
    "def LR_offset():\n",
    "    model_offset = linear_model.LinearRegression()\n",
    "    model_offset.fit(training_X_offset, training_y_end)\n",
    "    return model_offset"
   ]
  },
  {
   "cell_type": "code",
   "execution_count": null,
   "metadata": {},
   "outputs": [],
   "source": [
    "def LR_MSE(model_onset, model_offset):\n",
    "    errors = []\n",
    "    total = len(testing_X_onset)\n",
    "    for i in range(total):\n",
    "        Y_onset_pred = model_onset.predict(testing_X_onset[i])\n",
    "        Y_offset_pred = model_offset.predict(testing_X_offset[i])\n",
    "\n",
    "        onset_error = mean_squared_error(testing_y_start[i], Y_onset_pred)\n",
    "        offset_error = mean_squared_error(testing_y_end[i], Y_offset_pred)\n",
    "\n",
    "        errors.append((onset_error + offset_error) / 2)\n",
    "    \n",
    "    return errors"
   ]
  }
 ],
 "metadata": {
  "accelerator": "GPU",
  "colab": {
   "gpuType": "T4",
   "provenance": []
  },
  "kernelspec": {
   "display_name": "Python 3",
   "name": "python3"
  },
  "language_info": {
   "codemirror_mode": {
    "name": "ipython",
    "version": 3
   },
   "file_extension": ".py",
   "mimetype": "text/x-python",
   "name": "python",
   "nbconvert_exporter": "python",
   "pygments_lexer": "ipython3",
   "version": "3.9.18"
  }
 },
 "nbformat": 4,
 "nbformat_minor": 0
}
