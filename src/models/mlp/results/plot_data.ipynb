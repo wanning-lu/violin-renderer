{
 "cells": [
  {
   "cell_type": "code",
   "execution_count": null,
   "metadata": {},
   "outputs": [],
   "source": [
    "import csv\n",
    "import numpy as np\n",
    "import matplotlib.pyplot as plt\n",
    "import matplotlib.patches as mpatches\n",
    "\n",
    "# Run mlp_model to get loss values\n",
    "%run ~/violin-renderer/src/models/mlp/mlp_model.ipynb"
   ]
  },
  {
   "cell_type": "code",
   "execution_count": null,
   "metadata": {},
   "outputs": [],
   "source": [
    "# TRAIN LOSS PER STEP\n",
    "train_loss = TRAIN_STEP_LOSS.values()\n",
    "epoch, step = [], []\n",
    "for e, s in TRAIN_STEP_LOSS.keys():\n",
    "    epoch.append(e)\n",
    "    step.append(s)\n",
    "\n",
    "# write to csv file\n",
    "rows = zip(epoch, step, train_loss)\n",
    "with open('training_loss_per_step.csv', mode='w', newline='') as file:\n",
    "    writer = csv.writer(file)\n",
    "    writer.writerow(['epoch', 'step', 'train_loss'])  # Write header\n",
    "    writer.writerows(rows)\n",
    "    file.close()\n",
    "\n",
    "# print some values\n",
    "print('Min training loss per step:', min(train_loss))\n",
    "print('Max training loss per step:', max(train_loss))"
   ]
  },
  {
   "cell_type": "code",
   "execution_count": null,
   "metadata": {},
   "outputs": [],
   "source": [
    "# TRAIN LOSS PER EPOCH\n",
    "epoch = TRAIN_EPOCH_LOSS.keys()\n",
    "train_loss = TRAIN_EPOCH_LOSS.values()\n",
    "\n",
    "# write to csv file\n",
    "rows = zip(epoch, train_loss)\n",
    "with open('training_loss_per_epoch.csv', mode='w', newline='') as file:\n",
    "    writer = csv.writer(file)\n",
    "    writer.writerow(['epoch', 'train_loss'])  # Write header\n",
    "    writer.writerows(rows)\n",
    "    file.close()\n",
    "\n",
    "# print some values\n",
    "print('Min training loss per epoch:', min(train_loss))\n",
    "print('Max training loss per epoch:', max(train_loss))"
   ]
  },
  {
   "cell_type": "code",
   "execution_count": null,
   "metadata": {},
   "outputs": [],
   "source": [
    "# VALIDATION LOSS\n",
    "epoch = VALIDATE_LOSS.keys()\n",
    "validate_loss = VALIDATE_LOSS.values()\n",
    "\n",
    "# write to csv file\n",
    "rows = zip(epoch, validate_loss)\n",
    "with open('validating_loss_per_epoch.csv', mode='w', newline='') as file:\n",
    "    writer = csv.writer(file)\n",
    "    writer.writerow(['epoch', 'validate_loss'])  # Write header\n",
    "    writer.writerows(rows)\n",
    "    file.close()\n",
    "\n",
    "# print some values\n",
    "print('Min validating loss:', min(validate_loss))\n",
    "print('Max validating loss:', max(validate_loss))"
   ]
  },
  {
   "cell_type": "code",
   "execution_count": null,
   "metadata": {},
   "outputs": [],
   "source": [
    "TRAIN__LOSS = {}\n",
    "VALIDATE_LOSS = {}\n",
    "\n",
    "with open('validating_loss_per_epoch.csv', mode='r', encoding='utf-8') as file:\n",
    "    # Assuming your CSV file has a header with column names\n",
    "    csv_reader = csv.DictReader(file)\n",
    "    \n",
    "    for row in csv_reader:\n",
    "        epoch = float(row['epoch'])\n",
    "        validate_loss = float(row['validate_loss'])\n",
    "        VALIDATE_LOSS[epoch] = validate_loss\n",
    "    file.close()\n",
    "\n",
    "with open('training_loss_per_epoch.csv', mode='r', encoding='utf-8') as file:\n",
    "    # Assuming your CSV file has a header with column names\n",
    "    csv_reader = csv.DictReader(file)\n",
    "    \n",
    "    for row in csv_reader:\n",
    "        epoch = float(row['epoch'])\n",
    "        train_loss = float(row['train_loss'])\n",
    "        TRAIN__LOSS[epoch] = train_loss\n",
    "    file.close()\n",
    "\n",
    "# Plot data\n",
    "plt.semilogy(VALIDATE_LOSS.keys(), VALIDATE_LOSS.values(), color='green')\n",
    "plt.semilogy(TRAIN__LOSS.keys(), TRAIN__LOSS.values(), color='blue')\n",
    "plt.xlabel('Epoch')\n",
    "plt.ylabel('Loss Value')\n",
    "plt.title('Loss Values for MLP Model on Training vs. Validation Datasets')\n",
    "\n",
    "# Adding the legend with custom handles\n",
    "train_loss_legend = mpatches.Patch(color='blue', label='Training Dataset')\n",
    "validate_loss_legend = mpatches.Patch(color='green', label='Validation Dataset')\n",
    "plt.legend(handles=[train_loss_legend, validate_loss_legend])"
   ]
  }
 ],
 "metadata": {
  "kernelspec": {
   "display_name": "music-gen",
   "language": "python",
   "name": "python3"
  },
  "language_info": {
   "codemirror_mode": {
    "name": "ipython",
    "version": 3
   },
   "file_extension": ".py",
   "mimetype": "text/x-python",
   "name": "python",
   "nbconvert_exporter": "python",
   "pygments_lexer": "ipython3",
   "version": "3.9.18"
  }
 },
 "nbformat": 4,
 "nbformat_minor": 2
}
