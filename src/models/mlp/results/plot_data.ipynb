{
 "cells": [
  {
   "cell_type": "code",
   "execution_count": null,
   "metadata": {},
   "outputs": [],
   "source": [
    "import csv\n",
    "import numpy as np\n",
    "import matplotlib.pyplot as plt\n",
    "\n",
    "# Run mlp_model to get loss values\n",
    "%run ~/violin-renderer/src/models/mlp/mlp_model.ipynb"
   ]
  },
  {
   "cell_type": "code",
   "execution_count": null,
   "metadata": {},
   "outputs": [],
   "source": [
    "# TRAIN LOSS PER STEP\n",
    "train_loss = TRAIN_STEP_LOSS.values()\n",
    "epoch, step = [], []\n",
    "for e, s in TRAIN_STEP_LOSS.keys():\n",
    "    epoch.append(e)\n",
    "    step.append(s)\n",
    "\n",
    "# write to csv file\n",
    "rows = zip(epoch, step, train_loss)\n",
    "with open('training_loss_per_step.csv', mode='w', newline='') as file:\n",
    "    writer = csv.writer(file)\n",
    "    writer.writerow(['epoch', 'step', 'train_loss'])  # Write header\n",
    "    writer.writerows(rows)\n",
    "    file.close()\n",
    "\n",
    "# print some values\n",
    "print('Min training loss per step:', min(train_loss))\n",
    "print('Max training loss per step:', max(train_loss))"
   ]
  },
  {
   "cell_type": "code",
   "execution_count": null,
   "metadata": {},
   "outputs": [],
   "source": [
    "# TRAIN LOSS PER EPOCH\n",
    "epoch = TRAIN_EPOCH_LOSS.keys()\n",
    "train_loss = TRAIN_EPOCH_LOSS.values()\n",
    "\n",
    "# write to csv file\n",
    "rows = zip(epoch, train_loss)\n",
    "with open('training_loss_per_epoch.csv', mode='w', newline='') as file:\n",
    "    writer = csv.writer(file)\n",
    "    writer.writerow(['epoch', 'train_loss'])  # Write header\n",
    "    writer.writerows(rows)\n",
    "    file.close()\n",
    "\n",
    "# print some values\n",
    "print('Min training loss per epoch:', min(train_loss))\n",
    "print('Max training loss per epoch:', max(train_loss))"
   ]
  },
  {
   "cell_type": "code",
   "execution_count": null,
   "metadata": {},
   "outputs": [],
   "source": [
    "# VALIDATION LOSS\n",
    "epoch = VALIDATE_LOSS.keys()\n",
    "validate_loss = VALIDATE_LOSS.values()\n",
    "\n",
    "# write to csv file\n",
    "rows = zip(epoch, validate_loss)\n",
    "with open('validating_loss_per_epoch.csv', mode='w', newline='') as file:\n",
    "    writer = csv.writer(file)\n",
    "    writer.writerow(['epoch', 'validate_loss'])  # Write header\n",
    "    writer.writerows(rows)\n",
    "    file.close()\n",
    "\n",
    "# print some values\n",
    "print('Min validating loss:', min(validate_loss))\n",
    "print('Max validating loss:', max(validate_loss))"
   ]
  },
  {
   "cell_type": "code",
   "execution_count": null,
   "metadata": {},
   "outputs": [],
   "source": [
    "plt.plot(VALIDATE_LOSS.keys(), VALIDATE_LOSS.values(), color='green')\n",
    "plt.plot(TRAIN_EPOCH_LOSS.keys(), TRAIN_EPOCH_LOSS.values())\n",
    "plt.xlabel('Epoch')\n",
    "plt.ylabel('Loss Value')\n",
    "plt.title('Graph of Loss Values')"
   ]
  }
 ],
 "metadata": {
  "kernelspec": {
   "display_name": "music-gen",
   "language": "python",
   "name": "python3"
  },
  "language_info": {
   "codemirror_mode": {
    "name": "ipython",
    "version": 3
   },
   "file_extension": ".py",
   "mimetype": "text/x-python",
   "name": "python",
   "nbconvert_exporter": "python",
   "pygments_lexer": "ipython3",
   "version": "3.9.18"
  }
 },
 "nbformat": 4,
 "nbformat_minor": 2
}
