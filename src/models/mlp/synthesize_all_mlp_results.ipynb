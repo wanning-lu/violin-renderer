{
 "cells": [
  {
   "cell_type": "code",
   "execution_count": null,
   "metadata": {},
   "outputs": [],
   "source": [
    "import os \n",
    "\n",
    "# Run global_variables, synthesize_functions and mlp_model\n",
    "%run ~/violin-renderer/src/global_variables.ipynb\n",
    "%run ~/violin-renderer/src/models/mlp/mlp_model.ipynb\n",
    "%run ~/violin-renderer/src/synthesize/synthesize_functions.ipynb"
   ]
  },
  {
   "cell_type": "code",
   "execution_count": null,
   "metadata": {},
   "outputs": [],
   "source": [
    "# Create an output directory in /src, generate all results from the test dataset and synthesize all of them\n",
    "# Setting up paths and output folders\n",
    "SOURCE_INPUT_PATH =  HOME_PATH + '/bach-violin-dataset/dataset/source-input'\n",
    "TEMPO_PATH =  HOME_PATH + '/bach-violin-dataset/dataset/tempos'\n",
    "OUTPUT_PATH = HOME_PATH + '/src/mlp_output'\n",
    "composer_directories = os.listdir(SOURCE_INPUT_PATH)\n",
    "\n",
    "# Initialize models\n",
    "mlp_model = MLP(3, 4, 2)\n",
    "mlp_model.load_state_dict(torch.load(HOME_PATH + '/src/models/mlp/states/mlp_model.pt'))\n",
    "\n",
    "# Get generated output values from all songs\n",
    "results = generate_all_testing_data(mlp_model)\n",
    "print(results)\n",
    "\n",
    "# Synthesize\n",
    "if not os.path.isdir(OUTPUT_PATH):\n",
    "    os.mkdir(OUTPUT_PATH)\n",
    "\n",
    "for notes_path, generated_results in results.items():\n",
    "    name = '/' + notes_path.split('/')[-1]\n",
    "    name = name.replace('.csv', '')\n",
    "    generated_timings = [(note[0], note[1]) for note in generated_results]\n",
    "    synthesize_generated_output(notes_path, generated_timings, OUTPUT_PATH, name)"
   ]
  }
 ],
 "metadata": {
  "kernelspec": {
   "display_name": "music-gen",
   "language": "python",
   "name": "python3"
  },
  "language_info": {
   "codemirror_mode": {
    "name": "ipython",
    "version": 3
   },
   "file_extension": ".py",
   "mimetype": "text/x-python",
   "name": "python",
   "nbconvert_exporter": "python",
   "pygments_lexer": "ipython3",
   "version": "3.9.18"
  }
 },
 "nbformat": 4,
 "nbformat_minor": 2
}
