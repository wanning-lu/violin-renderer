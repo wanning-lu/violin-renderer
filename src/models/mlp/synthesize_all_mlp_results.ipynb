{
 "cells": [
  {
   "cell_type": "code",
   "execution_count": null,
   "metadata": {},
   "outputs": [],
   "source": [
    "import os \n",
    "\n",
    "# Run global_variables, synthesize_functions and mlp_model\n",
    "%run ~/violin-renderer/src/global_variables.ipynb\n",
    "%run ~/violin-renderer/src/models/mlp/mlp_model.ipynb\n",
    "%run ~/violin-renderer/src/synthesize/synthesize_functions.ipynb"
   ]
  },
  {
   "cell_type": "code",
   "execution_count": null,
   "metadata": {},
   "outputs": [],
   "source": [
    "# Create an output directory in /src, generate all results from the test dataset and synthesize all of them\n",
    "# Setting up paths and output folders\n",
    "SOURCE_INPUT_PATH =  HOME_PATH + '/bach-violin-dataset/dataset/source-input'\n",
    "TEMPO_PATH =  HOME_PATH + '/bach-violin-dataset/dataset/tempos'\n",
    "OUTPUT_PATH = HOME_PATH + '/src/mlp-output'\n",
    "composer_directories = os.listdir(SOURCE_INPUT_PATH)\n",
    "\n",
    "# Initialize models\n",
    "mlp_model = MLP(input_size=3, hidden_size=HIDDEN_LAYER_SIZE, output_size=2)\n",
    "\n",
    "# Uncomment one of the models\n",
    "mlp_model.load_state_dict(torch.load(HOME_PATH + '/src/models/mlp/states/mlp_model.pt'))\n",
    "# mlp_model.load_state_dict(torch.load(HOME_PATH + '/src/models/mlp/states/mlp_model_2.pt'))\n",
    "\n",
    "# Get generated output values from all songs\n",
    "results = generate_all_testing_data(mlp_model)\n",
    "# print(results)\n",
    "\n",
    "# Get MSE values\n",
    "MSE = [float(num) for num in MSE_error(mlp_model)]\n",
    "print('MSE values:', MSE)\n",
    "print('MSE Min: %.3f' % min(MSE))\n",
    "print('MSE Max: %.3f' % max(MSE))\n",
    "print('MSE Mean: %.3f' % np.mean(MSE))\n",
    "print('MSE Standard Deviation: %.3f' % np.std(MSE))"
   ]
  },
  {
   "cell_type": "code",
   "execution_count": null,
   "metadata": {},
   "outputs": [],
   "source": [
    "# Micro Average\n",
    "testing_source_input, _ = processed_testing_datasets()\n",
    "number_of_notes = [len(song) for song in testing_source_input.values()]\n",
    "weighted_MSE = [mse_error * num_of_notes / sum(number_of_notes) for mse_error, num_of_notes in zip(MSE, number_of_notes)]\n",
    "print(\"Micro MSE: %.2f\" % sum(weighted_MSE))\n",
    "print(\"Micro Root MSE: %.2f\" % np.sqrt(sum(weighted_MSE)))"
   ]
  },
  {
   "cell_type": "code",
   "execution_count": null,
   "metadata": {},
   "outputs": [],
   "source": [
    "# Synthesize\n",
    "if not os.path.isdir(OUTPUT_PATH):\n",
    "    os.mkdir(OUTPUT_PATH)\n",
    "\n",
    "for notes_path, generated_results in results.items():\n",
    "    name = '/' + notes_path.split('/')[-1]\n",
    "    name = name.replace('.csv', '')\n",
    "    generated_timings = [(note[0], note[1]) for note in generated_results]\n",
    "    synthesize_generated_output(notes_path, generated_timings, OUTPUT_PATH, name)"
   ]
  }
 ],
 "metadata": {
  "kernelspec": {
   "display_name": "music-gen",
   "language": "python",
   "name": "python3"
  },
  "language_info": {
   "codemirror_mode": {
    "name": "ipython",
    "version": 3
   },
   "file_extension": ".py",
   "mimetype": "text/x-python",
   "name": "python",
   "nbconvert_exporter": "python",
   "pygments_lexer": "ipython3",
   "version": "3.9.18"
  }
 },
 "nbformat": 4,
 "nbformat_minor": 2
}
