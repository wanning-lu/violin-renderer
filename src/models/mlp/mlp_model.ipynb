{
 "cells": [
  {
   "cell_type": "code",
   "execution_count": null,
   "metadata": {
    "executionInfo": {
     "elapsed": 8,
     "status": "ok",
     "timestamp": 1707100535892,
     "user": {
      "displayName": "Wanning Lu",
      "userId": "09623306388777366715"
     },
     "user_tz": 480
    },
    "id": "ot-KHBHSzKbw"
   },
   "outputs": [],
   "source": [
    "import torch\n",
    "import numpy as np\n",
    "import torch.nn as nn\n",
    "import matplotlib.pyplot as plt\n",
    "from torch.utils.data import Dataset\n",
    "from torch.utils.data import DataLoader\n",
    "\n",
    "# Run data_processing and batching_data\n",
    "%run ~/violin-renderer/src/data/batching_data.ipynb\n",
    "%run ~/violin-renderer/src/models/mlp/data_processing.ipynb\n",
    "\n",
    "# Initialize GPU to move model/tensors onto\n",
    "device = torch.device(\"cuda:2\" if torch.cuda.is_available() else \"cpu\")"
   ]
  },
  {
   "cell_type": "code",
   "execution_count": null,
   "metadata": {
    "executionInfo": {
     "elapsed": 8,
     "status": "ok",
     "timestamp": 1707100535893,
     "user": {
      "displayName": "Wanning Lu",
      "userId": "09623306388777366715"
     },
     "user_tz": 480
    },
    "id": "3FWYp4JezKb3"
   },
   "outputs": [],
   "source": [
    "class MLP(nn.Module):\n",
    "    def __init__(self, input_size, hidden_size, output_size):\n",
    "        super().__init__()\n",
    "        self.layers = nn.Sequential(\n",
    "            nn.Linear(input_size, hidden_size),\n",
    "            nn.BatchNorm1d(hidden_size),\n",
    "            nn.ReLU(),\n",
    "            nn.Linear(hidden_size, output_size)\n",
    "        )\n",
    "\n",
    "    def forward(self, x):\n",
    "        return self.layers(x)"
   ]
  },
  {
   "cell_type": "code",
   "execution_count": null,
   "metadata": {
    "executionInfo": {
     "elapsed": 10,
     "status": "ok",
     "timestamp": 1707100536110,
     "user": {
      "displayName": "Wanning Lu",
      "userId": "09623306388777366715"
     },
     "user_tz": 480
    },
    "id": "NAy7tNjezKb5"
   },
   "outputs": [],
   "source": [
    "# Trains the model inputted into the function.\n",
    "\n",
    "# @param model The model object to be trained\n",
    "# @param optimizer The optimizing equation to use to train the model\n",
    "# @param input_notes The training input data\n",
    "# @param truth The actual output for the corresponding input\n",
    "# @param loss_module Equation for calculating the difference between generated and actual output\n",
    "# @param num_epochs Number of cycles to train the model\n",
    "def train_model_loop(model, optimizer, dataloader, loss_module):\n",
    "    # Set model to train mode\n",
    "    model.train()\n",
    "\n",
    "    # Training loop   \n",
    "    for batch, (source_input_note, ground_truth) in enumerate(dataloader):\n",
    "\n",
    "        ## Step 1: Move input data to device (only strictly necessary if we use GPU)\n",
    "        source_input_note = source_input_note.to(device)\n",
    "        ground_truth = ground_truth.to(device)\n",
    "\n",
    "        ## Step 2: Run the model on the input data\n",
    "        preds = model(source_input_note)\n",
    "\n",
    "        ## Step 3: Calculate the loss\n",
    "        loss = loss_module(preds, ground_truth)\n",
    "\n",
    "        ## Step 4: Perform backpropagation\n",
    "        # Before calculating the gradients, we need to ensure that they are all zero.\n",
    "        # The gradients would not be overwritten, but actually added to the existing ones.\n",
    "        optimizer.zero_grad()\n",
    "        loss.backward()\n",
    "\n",
    "        ## Step 5: Update the parameters\n",
    "        optimizer.step()\n",
    "\n",
    "        ## Step 6: For every 50th batch, print out the current loss as well # of samples trained\n",
    "        if batch % 50 == 0:\n",
    "                    loss, current = loss.item(), batch * 100 + len(source_input_note)\n",
    "                    print(f\"loss: {loss:>7f}  [{current:>5d}/{len(dataloader.dataset):>5d}]\")"
   ]
  },
  {
   "cell_type": "code",
   "execution_count": null,
   "metadata": {},
   "outputs": [],
   "source": [
    "# trains the model using the dataloader\n",
    "def train_model(model, optimizer, training_loader, loss):\n",
    "    epochs = 50\n",
    "    for t in range(epochs):\n",
    "        print(f\"Epoch {t+1}\\n-------------------------------\")\n",
    "        train_model_loop(model, optimizer, training_loader, loss)\n",
    "    torch.save(model.state_dict(), 'mlp_model.pt')"
   ]
  },
  {
   "cell_type": "code",
   "execution_count": null,
   "metadata": {},
   "outputs": [],
   "source": [
    "# Get processed training data\n",
    "training_source_inputs, training_ground_truths = processed_training_datasets()\n",
    "\n",
    "# Initializing MLPMusicDataset objects\n",
    "training_MLPMusicDataset = MLPMusicDataset(source_input_data=torch.Tensor(training_source_inputs), ground_truth_data=torch.Tensor(training_source_inputs))\n",
    "testing_MLPMusicDataset = MLPMusicDataset(source_input_data=torch.Tensor(testing_source_inputs), ground_truth_data=torch.Tensor(training_ground_truths))\n",
    "\n",
    "# Load data to create batches\n",
    "training_source_inputs = DataLoader(training_MLPMusicDataset, batch_size=100, shuffle=True)\n",
    "testing_source_inputs = DataLoader(testing_MLPMusicDataset, batch_size=100, shuffle=False)"
   ]
  },
  {
   "cell_type": "code",
   "execution_count": null,
   "metadata": {
    "executionInfo": {
     "elapsed": 223,
     "status": "ok",
     "timestamp": 1707100536109,
     "user": {
      "displayName": "Wanning Lu",
      "userId": "09623306388777366715"
     },
     "user_tz": 480
    },
    "id": "71tpDyqOzKb3"
   },
   "outputs": [],
   "source": [
    "# initialize the MLP\n",
    "model = MLP(3, 4, 2)\n",
    "\n",
    "# transfer model to GPU\n",
    "model.to(device)"
   ]
  },
  {
   "cell_type": "code",
   "execution_count": null,
   "metadata": {
    "executionInfo": {
     "elapsed": 10,
     "status": "ok",
     "timestamp": 1707100536109,
     "user": {
      "displayName": "Wanning Lu",
      "userId": "09623306388777366715"
     },
     "user_tz": 480
    },
    "id": "GrwKJZ87zKb4"
   },
   "outputs": [],
   "source": [
    "# Define our loss function (mean squared error) to be used in the grad descent step\n",
    "loss = nn.MSELoss()\n",
    "\n",
    "# Performs the gradient descent steps\n",
    "optimizer = torch.optim.SGD(model.parameters(), lr=1e-6)"
   ]
  },
  {
   "cell_type": "code",
   "execution_count": null,
   "metadata": {
    "colab": {
     "base_uri": "https://localhost:8080/"
    },
    "executionInfo": {
     "elapsed": 158,
     "status": "ok",
     "timestamp": 1707100552271,
     "user": {
      "displayName": "Wanning Lu",
      "userId": "09623306388777366715"
     },
     "user_tz": 480
    },
    "id": "U_auXk9GzKb6",
    "outputId": "3fac618e-1428-49c7-c066-4f4e817df80d"
   },
   "outputs": [],
   "source": [
    "# this creates a dictionary of outputs for all pieces in the testing dataset\n",
    "\n",
    "# @param:\n",
    "    # model_type: which model to use between \"pitch\" or \"no pitch\"\n",
    "# @returns a dictionary mapping with key of file path and value of csv values\n",
    "def generate_all_outputs(model_type):\n",
    "    mlp_model = MLP(3, 4, 2)\n",
    "    mlp_model.to(device)\n",
    "\n",
    "    testing_results = {}\n",
    "    test_paths = []\n",
    "\n",
    "    file = open(HOME_PATH + '/violin-renderer/src/dataset-paths/testing-input.txt','r')\n",
    "    lines = file.readlines()\n",
    "    for line in lines:\n",
    "        test_paths.append(line.strip())\n",
    "    \n",
    "    # generating an output for each piece in the testing input dataset\n",
    "    for i in range(len(testing_X)):\n",
    "        new_test_input = np.array(testing_X[i])\n",
    "        new_test_input[:, 1] = set_duration(new_test_input[:, 0], new_test_input[:, 1])\n",
    "        new_test_input[:, 0] = scale_data(new_test_input[:, 0])\n",
    "        new_test_input[:, 1] = scale_data(new_test_input[:, 1])\n",
    "\n",
    "        if model_type == \"pitch\":\n",
    "            new_test_input[:, 2] = scale_pitch(new_test_input[:, 2])\n",
    "            mlp_model.load_state_dict(torch.load(HOME_PATH + '/violin-renderer/src/models/states/mlp_pitch.pt'))\n",
    "        elif model_type == \"no pitch\":\n",
    "            new_test_input[:, 2] = scale_pitch(new_test_input[:, 2]) * 0\n",
    "            mlp_model.load_state_dict(torch.load(HOME_PATH + '/violin-renderer/src/models/states/mlp_no_pitch.pt'))\n",
    "        else:\n",
    "            print(\"Please choose the correct model\")\n",
    "            return\n",
    "\n",
    "\n",
    "        \n",
    "        new_test_input = torch.Tensor(new_test_input)\n",
    "        new_test_input = new_test_input.to(device)\n",
    "        \n",
    "        y_test = mlp_model(new_test_input)\n",
    "        y_test = y_test.tolist()\n",
    "        for j in range(len(y_test)):\n",
    "            y_test[j].append(testing_X[i][j][2])\n",
    "\n",
    "        testing_results[test_paths[i]] = y_test\n",
    "\n",
    "    return testing_results"
   ]
  },
  {
   "cell_type": "code",
   "execution_count": null,
   "metadata": {},
   "outputs": [],
   "source": [
    "# calculates error between generated output and testing truth\n",
    "\n",
    "# @param:\n",
    "    # model_type: which model to use between \"pitch\" or \"no pitch\"\n",
    "# @return: MSE values for each song in the testing dataset\n",
    "def MSE_error(model_type):\n",
    "    testing_results = generate_all_outputs(model_type)\n",
    "    loss_values = []\n",
    "    for output_path, truth in zip(testing_results, testing_y):\n",
    "        output = testing_results[output_path]\n",
    "\n",
    "        # print(output_path)\n",
    "\n",
    "        # pitch was only added so the result is able to be synthesized, we can remove it here\n",
    "        for i in range(len(output)):\n",
    "            output[i].pop()\n",
    "        output = torch.Tensor(output)\n",
    "        truth = torch.Tensor(truth)\n",
    "        loss_value = loss(output, truth) / len(output)\n",
    "        loss_values.append(loss_value)\n",
    "\n",
    "    return loss_values"
   ]
  }
 ],
 "metadata": {
  "accelerator": "GPU",
  "colab": {
   "gpuType": "T4",
   "provenance": []
  },
  "kernelspec": {
   "display_name": "Python 3 (ipykernel)",
   "language": "python",
   "name": "python3"
  },
  "language_info": {
   "codemirror_mode": {
    "name": "ipython",
    "version": 3
   },
   "file_extension": ".py",
   "mimetype": "text/x-python",
   "name": "python",
   "nbconvert_exporter": "python",
   "pygments_lexer": "ipython3",
   "version": "3.9.18"
  }
 },
 "nbformat": 4,
 "nbformat_minor": 4
}
