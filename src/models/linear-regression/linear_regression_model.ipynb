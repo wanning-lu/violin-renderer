{
 "cells": [
  {
   "cell_type": "code",
   "execution_count": 1,
   "metadata": {
    "executionInfo": {
     "elapsed": 23,
     "status": "ok",
     "timestamp": 1707086929319,
     "user": {
      "displayName": "Wanning Lu",
      "userId": "09623306388777366715"
     },
     "user_tz": 480
    },
    "id": "5V5IE9c-Pn3n"
   },
   "outputs": [],
   "source": [
    "import os\n",
    "from sklearn import linear_model\n",
    "from collections import defaultdict\n",
    "from sklearn.metrics import mean_squared_error\n",
    "\n",
    "# Run data_processing \n",
    "%run ~/violin-renderer/src/models/linear-regression/data_processing.ipynb"
   ]
  },
  {
   "cell_type": "code",
   "execution_count": 2,
   "metadata": {},
   "outputs": [],
   "source": [
    "# Initialize linear regression and train based on dataset\n",
    "# @param X_dataset: source input data in an array format\n",
    "# @param y_dataset: ground truth data in an array format\n",
    "# @return: instance of linear regression model that takes (onset, pitch) -> start\n",
    "def train_model(X_dataset, y_dataset):\n",
    "    model = linear_model.LinearRegression()\n",
    "    model.fit(X_dataset, y_dataset)\n",
    "    return model"
   ]
  },
  {
   "cell_type": "code",
   "execution_count": 3,
   "metadata": {},
   "outputs": [],
   "source": [
    "# @param start_model: linear regression model to generate start values\n",
    "# @param end_model: linear regression model to generate end values\n",
    "# @return: an array of MSE values for each song in the testing dataset\n",
    "def MSE_error(start_model, end_model):\n",
    "    _ , _ , testing_y_start, testing_y_end, _ = processed_testing_datasets()\n",
    "\n",
    "    errors = []\n",
    "    testing_results = generate_all_testing_data(start_model, end_model)\n",
    "    for i, generated_song in enumerate(testing_results.values()):\n",
    "        start = [pair[0] for pair in generated_song]\n",
    "        end = [pair[1] for pair in generated_song]\n",
    "        onset_error = mean_squared_error(testing_y_start[i], start)\n",
    "        offset_error = mean_squared_error(testing_y_end[i], end)\n",
    "        errors.append((onset_error + offset_error) / 2)\n",
    "    \n",
    "    return errors"
   ]
  },
  {
   "cell_type": "code",
   "execution_count": 4,
   "metadata": {},
   "outputs": [],
   "source": [
    "# @param start_model: linear regression model to generate start values\n",
    "# @param end_model: linear regression model to generate end values\n",
    "# @returns a dictionary { path : [(start, end), ...]}\n",
    "def generate_all_testing_data(start_model, end_model):\n",
    "    # Initialize all testing datasets\n",
    "    testing_X_onset, testing_X_offset, _ , _ , testing_paths = processed_testing_datasets()\n",
    "    testing_results = defaultdict(list)\n",
    "\n",
    "    # Generating output for each piece in the testing input dataset\n",
    "    for i, song_path in enumerate(testing_paths):\n",
    "        onset_song = testing_X_onset[i]\n",
    "        offset_song = testing_X_offset[i]\n",
    "\n",
    "        y_onset_pred = start_model.predict(onset_song)\n",
    "        y_offset_pred = end_model.predict(offset_song)\n",
    "\n",
    "        # Add to dictionary\n",
    "        for start, end in zip(y_onset_pred, y_offset_pred):\n",
    "            testing_results[song_path].append((start, end))\n",
    "\n",
    "    return testing_results\n",
    "\n",
    "# model_onset = LR_onset()\n",
    "# model_offset = LR_offset()\n",
    "# generate_all_testing_data(model_onset, model_offset)"
   ]
  }
 ],
 "metadata": {
  "accelerator": "GPU",
  "colab": {
   "gpuType": "T4",
   "provenance": []
  },
  "kernelspec": {
   "display_name": "Python 3",
   "name": "python3"
  },
  "language_info": {
   "codemirror_mode": {
    "name": "ipython",
    "version": 3
   },
   "file_extension": ".py",
   "mimetype": "text/x-python",
   "name": "python",
   "nbconvert_exporter": "python",
   "pygments_lexer": "ipython3",
   "version": "3.9.18"
  }
 },
 "nbformat": 4,
 "nbformat_minor": 0
}
