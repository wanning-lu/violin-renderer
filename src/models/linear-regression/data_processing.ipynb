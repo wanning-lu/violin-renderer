{
 "cells": [
  {
   "cell_type": "code",
   "execution_count": null,
   "metadata": {},
   "outputs": [],
   "source": [
    "# Run parse_data\n",
    "%run ~/violin-renderer/src/data/parse_data.ipynb"
   ]
  },
  {
   "cell_type": "code",
   "execution_count": null,
   "metadata": {},
   "outputs": [],
   "source": [
    "def processed_training_datasets():\n",
    "    # Load the training dataset\n",
    "    training_X, training_y = load_training_data()\n",
    "\n",
    "    # Note: for training we just need to combine every song into an array\n",
    "    # We remake so we have 2 different models for (onset, pitch) -> start and (offset, pitch) -> end\n",
    "    # and combine everything into one matrix\n",
    "    training_X_onset = [(pair[0], 0) for song in training_X.values() for pair in song]\n",
    "    training_X_offset = [(pair[1], 0) for song in training_X.values() for pair in song]\n",
    "    training_y_start = [pair[0] for song in training_y.values() for pair in song]\n",
    "    training_y_end = [pair[1] for song in training_y.values() for pair in song]\n",
    "\n",
    "    return training_X_onset, training_X_offset, training_y_start, training_y_end"
   ]
  },
  {
   "cell_type": "code",
   "execution_count": null,
   "metadata": {},
   "outputs": [],
   "source": [
    "def processed_testing_datasets():\n",
    "    # Load the training dataset\n",
    "    testing_X, testing_y = load_testing_data()\n",
    "\n",
    "    # We remake so we have 2 different models for (onset, pitch) -> start and (offset, pitch) -> end\n",
    "    # and keep them song by song\n",
    "    testing_X_onset = [[(pair[0], 0) for pair in song] for song in testing_X.values()]\n",
    "    testing_X_offset = [[(pair[1], 0) for pair in song] for song in testing_X.values()]\n",
    "    testing_y_start = [[pair[0] for pair in song] for song in testing_y.values()]\n",
    "    testing_y_end = [[pair[1] for pair in song] for song in testing_y.values()]\n",
    "    \n",
    "    # Get source input paths of every songs\n",
    "    testing_paths = testing_X.keys()\n",
    "\n",
    "    return testing_X_onset, testing_X_offset, testing_y_start, testing_y_end, testing_paths"
   ]
  }
 ],
 "metadata": {
  "language_info": {
   "name": "python"
  }
 },
 "nbformat": 4,
 "nbformat_minor": 2
}
