{
 "cells": [
  {
   "cell_type": "code",
   "execution_count": null,
   "metadata": {},
   "outputs": [],
   "source": [
    "import os \n",
    "import numpy as np\n",
    "\n",
    "# Run synthesize_functions, linear_regression_model, and data_processing \n",
    "%run ~/violin-renderer/src/synthesize/synthesize_functions.ipynb\n",
    "%run ~/violin-renderer/src/models/linear-regression/linear_regression_model.ipynb\n",
    "%run ~/violin-renderer/src/models/linear-regression/data_processing.ipynb"
   ]
  },
  {
   "cell_type": "code",
   "execution_count": null,
   "metadata": {},
   "outputs": [],
   "source": [
    "# Create an output directory in /src, generate all results from the test dataset and synthesize all of them\n",
    "# Setting up paths and output folders\n",
    "SOURCE_INPUT_PATH =  HOME_PATH + '/bach-violin-dataset/dataset/source-input'\n",
    "TEMPO_PATH =  HOME_PATH + '/bach-violin-dataset/dataset/tempos'\n",
    "OUTPUT_PATH = HOME_PATH + '/src/linear-regression-output'\n",
    "composer_directories = os.listdir(SOURCE_INPUT_PATH)\n",
    "\n",
    "# Initializing datasets\n",
    "training_X_onset, training_X_offset, training_y_start, training_y_end = processed_training_datasets()\n",
    "\n",
    "# Initialize models\n",
    "start_model = train_model(training_X_onset, training_y_start)\n",
    "end_model = train_model(training_X_offset, training_y_end)\n",
    "\n",
    "# Print some values\n",
    "MSE = MSE_error(start_model, end_model)\n",
    "print('Model Coefficients: %.3f', start_model.coef_, end_model.coef_)\n",
    "print('Model Intercept: %.3f', start_model.intercept_, end_model.intercept_)\n",
    "print('MSE values:', MSE)\n",
    "print('MSE Min: %.3f' % min(MSE))\n",
    "print('MSE Max: %.3f' % max(MSE))\n",
    "print('MSE Mean: %.3f' % np.mean(MSE))\n",
    "print('MSE Standard Deviation: %.3f' % np.std(MSE))\n",
    "\n",
    "# Get all results\n",
    "results = generate_all_testing_data(start_model, end_model)"
   ]
  },
  {
   "cell_type": "code",
   "execution_count": null,
   "metadata": {},
   "outputs": [],
   "source": [
    "# Synthesize\n",
    "if not os.path.isdir(OUTPUT_PATH):\n",
    "    os.mkdir(OUTPUT_PATH)\n",
    "for notes_path, generated_timings in results.items():\n",
    "    name = notes_path.split('/')[-1]\n",
    "    name = name.replace('.csv', '')\n",
    "    synthesize_generated_output(notes_path, generated_timings, OUTPUT_PATH, '/' + name)"
   ]
  }
 ],
 "metadata": {
  "kernelspec": {
   "display_name": "music-gen",
   "language": "python",
   "name": "python3"
  },
  "language_info": {
   "codemirror_mode": {
    "name": "ipython",
    "version": 3
   },
   "file_extension": ".py",
   "mimetype": "text/x-python",
   "name": "python",
   "nbconvert_exporter": "python",
   "pygments_lexer": "ipython3",
   "version": "3.9.18"
  }
 },
 "nbformat": 4,
 "nbformat_minor": 2
}
