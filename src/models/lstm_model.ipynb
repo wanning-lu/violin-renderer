{
 "cells": [
  {
   "cell_type": "code",
   "execution_count": null,
   "metadata": {},
   "outputs": [],
   "source": [
    "import torch\n",
    "import os \n",
    "import torch.nn as nn\n",
    "import numpy as np\n",
    "from torch.utils.data import Dataset\n",
    "from torch.utils.data import DataLoader\n",
    "import matplotlib.pyplot as plt\n",
    "%run ~/violin-renderer/src/misc/parse.ipynb\n",
    "# %run ~/violin-renderer/src/misc/randomizer.ipynb"
   ]
  },
  {
   "cell_type": "code",
   "execution_count": null,
   "metadata": {},
   "outputs": [],
   "source": [
    "HOME_DIR = os.path.expanduser(\"~\")"
   ]
  },
  {
   "cell_type": "code",
   "execution_count": null,
   "metadata": {},
   "outputs": [],
   "source": [
    "# initialize GPU to move model/tensors onto\n",
    "device = torch.device(\"cuda:2\" if torch.cuda.is_available() else \"cpu\")"
   ]
  },
  {
   "cell_type": "code",
   "execution_count": null,
   "metadata": {},
   "outputs": [],
   "source": [
    "# load all the datasets\n",
    "training_X, training_y, testing_X, testing_y = load_from_paths(HOME_DIR)"
   ]
  },
  {
   "cell_type": "code",
   "execution_count": null,
   "metadata": {},
   "outputs": [],
   "source": [
    "# this is the number of songs we have\n",
    "print(len(training_X))"
   ]
  },
  {
   "cell_type": "code",
   "execution_count": null,
   "metadata": {},
   "outputs": [],
   "source": [
    "class LSTMMusicDataset(Dataset):\n",
    "    def __init__(self, input_data, ground_truth, transform=None):\n",
    "        self.input_data = input_data\n",
    "        self.ground_truth = ground_truth\n",
    "        self.transform = transform\n",
    "\n",
    "    def __len__(self):\n",
    "        return len(self.input_data)\n",
    "\n",
    "    def __getitem__(self, idx):\n",
    "        input_sample = self.input_data[idx]\n",
    "        ground_truth_sample = self.ground_truth[idx]\n",
    "\n",
    "        if self.transform:\n",
    "            input_sample = self.transform(input_sample)\n",
    "\n",
    "        return input_sample, ground_truth_sample"
   ]
  },
  {
   "cell_type": "code",
   "execution_count": null,
   "metadata": {},
   "outputs": [],
   "source": [
    "# helper functions to scale data\n",
    "#\n",
    "# @param column The column to be scaled\n",
    "# @returns the scaled column\n",
    "def scale_data(column):\n",
    "    min_val = np.min(column)\n",
    "    max_val = np.max(column)\n",
    "    scaled_column = (2 * (column - min_val) / (max_val - min_val)) - 1\n",
    "    return scaled_column\n",
    "\n",
    "def scale_pitch(column):\n",
    "    return column / 128"
   ]
  },
  {
   "cell_type": "code",
   "execution_count": null,
   "metadata": {},
   "outputs": [],
   "source": [
    "# put them into an N (number of songs) x MAX_SEQUENCE_LENGTH x input_dim matrix\n",
    "\n",
    "training_input = np.zeros((84, 1024, 3))\n",
    "training_truth = np.zeros((84, 1024, 2))\n",
    "\n",
    "for (i, input_notes, truth) in zip(range(84), training_X, training_y):\n",
    "    input_array = np.zeros((1024, 3))\n",
    "    truth_array = np.zeros((1024, 2))\n",
    "    input_notes = np.array(input_notes)\n",
    "    truth = np.array(truth)\n",
    "\n",
    "    # trim down the sequence, or pad it with [0,0,0]\n",
    "    if len(input_notes) > 1024:\n",
    "        input_array = input_notes[:1024]\n",
    "        truth_array = truth[:1024]\n",
    "        \n",
    "        input_array[:, 0] = scale_data(input_array[:, 0])\n",
    "        input_array[:, 1] = scale_data(input_array[:, 1])\n",
    "        input_array[:, 2] = scale_pitch(input_array[:, 2])\n",
    "    else:\n",
    "        input_array[:len(input_notes)] = input_notes\n",
    "        truth_array[:len(truth)] = truth\n",
    "\n",
    "        input_array[:len(input_notes), 0] = scale_data(input_array[:len(input_notes), 0])\n",
    "        input_array[:len(input_notes), 1] = scale_data(input_array[:len(input_notes), 1])\n",
    "        input_array[:len(input_notes), 2] = scale_pitch(input_array[:len(input_notes), 2])\n",
    "\n",
    "    # just in case manipulating the original object manipulates everything\n",
    "    training_input[i] = np.copy(input_array)\n",
    "    training_truth[i] = np.copy(truth_array)"
   ]
  },
  {
   "cell_type": "code",
   "execution_count": null,
   "metadata": {},
   "outputs": [],
   "source": [
    "# first create the custom datasets, then create the data loaders\n",
    "training_data = LSTMMusicDataset(input_data=torch.Tensor(training_input), ground_truth=torch.Tensor(training_truth))\n",
    "# testing_data = MusicDataset(input_data=torch.Tensor(all_testing_input), ground_truth=torch.Tensor(all_testing_truth))\n",
    "\n",
    "training_loader = DataLoader(training_data, batch_size=8, shuffle=True)\n",
    "# testing_loader = DataLoader(testing_data, batch_size=100, shuffle=False)"
   ]
  },
  {
   "cell_type": "code",
   "execution_count": null,
   "metadata": {},
   "outputs": [],
   "source": [
    "# USING MLP DATASET METHOD ONLY, comment out to use LSTM dataset method\n",
    "\n",
    "# first, compile all the data into one big matrix\n",
    "all_input = []\n",
    "all_truth = []\n",
    "for (input_notes, truth) in zip(training_X, training_y):\n",
    "    all_input.extend(input_notes)\n",
    "    all_truth.extend(truth)\n",
    "\n",
    "all_testing_input = []\n",
    "all_testing_truth = []\n",
    "for (input_notes, truth) in zip(testing_X, testing_y):\n",
    "    all_testing_input.extend(input_notes)\n",
    "    all_testing_truth.extend(truth)\n",
    "\n",
    "# normalizing the input\n",
    "all_input = np.array(all_input)\n",
    "\n",
    "all_input[:, 0] = scale_data(all_input[:, 0])\n",
    "all_input[:, 1] = scale_data(all_input[:, 1])\n",
    "all_input[:, 2] = scale_pitch(all_input[:, 2])\n",
    "\n",
    "training_data = LSTMMusicDataset(input_data=torch.Tensor(all_input), ground_truth=torch.Tensor(all_truth))\n",
    "training_loader = DataLoader(training_data, batch_size=100, shuffle=True)"
   ]
  },
  {
   "cell_type": "code",
   "execution_count": null,
   "metadata": {},
   "outputs": [],
   "source": [
    "# reference: https://www.kaggle.com/code/kanncaa1/long-short-term-memory-with-pytorch\n",
    "class LSTM(nn.Module):\n",
    "    def __init__(self, input_dim, hidden_dim, layer_dim, output_dim):\n",
    "        super(LSTM, self).__init__()\n",
    "        \n",
    "        self.hidden_dim = hidden_dim\n",
    "        self.layer_dim = layer_dim\n",
    "\n",
    "        # LSTM layer\n",
    "        self.lstm = nn.LSTM(input_dim, hidden_dim, layer_dim, batch_first=True) # batch_first=True (batch_dim, seq_dim, feature_dim)\n",
    "\n",
    "        # Output layer\n",
    "        self.fc = nn.Linear(hidden_dim, output_dim)\n",
    "\n",
    "    def forward(self, x):\n",
    "        # Initialize hidden state with zeros\n",
    "        h0 = torch.zeros(self.layer_dim, x.size(0), self.hidden_dim, device=x.device).requires_grad_()\n",
    "\n",
    "        # Initialize cell state\n",
    "        c0 = torch.zeros(self.layer_dim, x.size(0), self.hidden_dim, device=x.device).requires_grad_()\n",
    "\n",
    "        print(x.shape)\n",
    "\n",
    "        out, _ = self.lstm(x, (h0.detach(), c0.detach()))\n",
    "        \n",
    "        # Reshape output to (batch_size * sequence_length, hidden_size)\n",
    "        out = out.contiguous().view(-1, self.hidden_dim)\n",
    "\n",
    "        # Flattens the output \n",
    "        out = self.fc(out) \n",
    "        \n",
    "        out = out.view(x.size(0), -1, out.size(1))\n",
    "        \n",
    "        return out"
   ]
  },
  {
   "cell_type": "code",
   "execution_count": null,
   "metadata": {},
   "outputs": [],
   "source": [
    "input_dim = 3\n",
    "hidden_dim = 50\n",
    "layer_dim = 1\n",
    "output_dim = 2\n",
    "\n",
    "# initialize the MLP\n",
    "model = LSTM(input_dim, hidden_dim, layer_dim, output_dim)\n",
    "\n",
    "# transfer model to GPU\n",
    "model.to(device)"
   ]
  },
  {
   "cell_type": "code",
   "execution_count": null,
   "metadata": {},
   "outputs": [],
   "source": [
    "# Define our loss function (mean squared error) to be used in the grad descent step\n",
    "loss = nn.MSELoss()\n",
    "\n",
    "# Performs the gradient descent steps\n",
    "optimizer = torch.optim.SGD(model.parameters(), lr=1e-6)"
   ]
  },
  {
   "cell_type": "code",
   "execution_count": null,
   "metadata": {},
   "outputs": [],
   "source": [
    "# Trains the model inputted into the function.\n",
    "#\n",
    "# @param model The model object to be trained\n",
    "# @param optimizer The optimizing equation to use to train the model\n",
    "# @param input_notes The training input data\n",
    "# @param truth The actual output for the corresponding input\n",
    "# @param loss_module Equation for calculating the difference between generated and actual output\n",
    "# @param num_epochs Number of cycles to train the model\n",
    "def train_model_loop(model, optimizer, dataloader, loss_module):\n",
    "    # Set model to train mode\n",
    "    model.train()\n",
    "\n",
    "    # Training loop   \n",
    "    for batch, (input_notes, truth) in enumerate(dataloader):\n",
    "\n",
    "        input_notes = input_notes.to(device)\n",
    "        truth = truth.to(device)\n",
    "\n",
    "        ## Run the model on the input data\n",
    "        preds = model(input_notes)\n",
    "\n",
    "        print(preds)\n",
    "\n",
    "        ## Calculate loss\n",
    "        loss = loss_module(preds, truth)\n",
    "\n",
    "        ## Backpropagation (using loss value to reset weights). Reset gradients.\n",
    "        optimizer.zero_grad()\n",
    "        loss.backward()\n",
    "\n",
    "        ## Update parameters\n",
    "        optimizer.step()\n",
    "\n",
    "        ## For every 50th batch, print out the current loss as well # of samples trained\n",
    "        if batch % 50 == 0:\n",
    "                    loss, current = loss.item(), batch * 100 + len(input_notes)\n",
    "                    print(f\"loss: {loss:>7f}  [{current:>5d}/{len(dataloader.dataset):>5d}]\")"
   ]
  },
  {
   "cell_type": "code",
   "execution_count": null,
   "metadata": {},
   "outputs": [],
   "source": [
    "# trains the model using the dataloader\n",
    "def train_model():\n",
    "    epochs = 50\n",
    "    for t in range(epochs):\n",
    "        print(f\"Epoch {t+1}\\n-------------------------------\")\n",
    "        train_model_loop(model, optimizer, training_loader, loss)\n",
    "    torch.save(model.state_dict(), 'lstm.pt')"
   ]
  },
  {
   "cell_type": "code",
   "execution_count": null,
   "metadata": {},
   "outputs": [],
   "source": [
    "train_model()"
   ]
  }
 ],
 "metadata": {
  "kernelspec": {
   "display_name": "Python 3 (ipykernel)",
   "language": "python",
   "name": "python3"
  },
  "language_info": {
   "codemirror_mode": {
    "name": "ipython",
    "version": 3
   },
   "file_extension": ".py",
   "mimetype": "text/x-python",
   "name": "python",
   "nbconvert_exporter": "python",
   "pygments_lexer": "ipython3",
   "version": "3.9.18"
  }
 },
 "nbformat": 4,
 "nbformat_minor": 4
}
