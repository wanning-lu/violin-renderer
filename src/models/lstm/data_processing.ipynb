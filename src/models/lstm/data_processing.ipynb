{
 "cells": [
  {
   "cell_type": "code",
   "execution_count": null,
   "metadata": {},
   "outputs": [],
   "source": [
    "%run ~/violin-renderer/src/data/parse_data.ipynb"
   ]
  },
  {
   "cell_type": "code",
   "execution_count": null,
   "metadata": {},
   "outputs": [],
   "source": [
    "BEATS = 256\n",
    "RESOLUTION = 24"
   ]
  },
  {
   "cell_type": "code",
   "execution_count": null,
   "metadata": {},
   "outputs": [],
   "source": [
    "# helper functions to normalize data\n",
    "def scale_timings(note):\n",
    "    return note / (BEATS * RESOLUTION)\n",
    "\n",
    "def scale_pitch(note):\n",
    "    return note / 128\n",
    "\n",
    "# helper functions to convert to duration and use (onset, duration) instead of (onset, offset)\n",
    "def set_duration(start, end):\n",
    "    return end - start"
   ]
  },
  {
   "cell_type": "code",
   "execution_count": null,
   "metadata": {},
   "outputs": [],
   "source": [
    "# load training data\n",
    "training_X, training_y = load_training_data()\n",
    "validate_X, validate_y = load_validating_data()\n",
    "testing_X, testing_y = load_testing_data()\n",
    "\n",
    "training_X = list(training_X.values())\n",
    "training_y = list(training_y.values())\n",
    "validate_X = list(validate_X.values())\n",
    "validate_y = list(validate_y.values())"
   ]
  },
  {
   "cell_type": "code",
   "execution_count": null,
   "metadata": {},
   "outputs": [],
   "source": [
    "def trim_sequence(source_inputs, ground_truth):\n",
    "    all_source_inputs = []\n",
    "    all_ground_truths = []\n",
    "\n",
    "    for input_song, true_song in zip(source_inputs, ground_truth):\n",
    "        trimmed_source = []\n",
    "        trimmed_truth = []\n",
    "\n",
    "        for note_source, note_truth in zip(input_song, true_song):\n",
    "            if note_source[1] > 64 * 24:\n",
    "                break\n",
    "                \n",
    "            note_source = list(note_source)\n",
    "            note_truth = list(note_truth)\n",
    "            \n",
    "            note_source[0] = scale_timings(note_source[0])\n",
    "            note_source[1] = scale_timings(note_source[1])\n",
    "            note_source[2] = scale_pitch(note_source[2])\n",
    "            \n",
    "            trimmed_source.append(note_source)\n",
    "            trimmed_truth.append(note_truth)\n",
    "            \n",
    "        all_source_inputs.append(trimmed_source)\n",
    "        all_ground_truths.append(trimmed_truth)\n",
    "\n",
    "    return all_source_inputs, all_ground_truths"
   ]
  },
  {
   "cell_type": "code",
   "execution_count": null,
   "metadata": {},
   "outputs": [],
   "source": [
    "def processed_training_data():\n",
    "    return trim_sequence(training_X, training_y)\n",
    "\n",
    "def processed_validating_data():\n",
    "    return trim_sequence(validate_X, validate_y)"
   ]
  }
 ],
 "metadata": {
  "language_info": {
   "name": "python"
  }
 },
 "nbformat": 4,
 "nbformat_minor": 2
}
