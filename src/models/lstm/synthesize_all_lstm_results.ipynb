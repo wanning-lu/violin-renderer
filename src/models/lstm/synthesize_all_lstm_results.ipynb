{
 "cells": [
  {
   "cell_type": "code",
   "execution_count": null,
   "metadata": {},
   "outputs": [],
   "source": [
    "import os \n",
    "\n",
    "# Run global_variables, synthesize_functions and mlp_model\n",
    "%run ~/violin-renderer/src/global_variables.ipynb\n",
    "%run ~/violin-renderer/src/models/lstm/lstm_model.ipynb\n",
    "%run ~/violin-renderer/src/synthesize/synthesize_functions.ipynb\n",
    "%run ~/violin-renderer/src/models/lstm/data_processing.ipynb"
   ]
  },
  {
   "cell_type": "code",
   "execution_count": null,
   "metadata": {},
   "outputs": [],
   "source": [
    "testing_X, testing_y = load_testing_data()"
   ]
  },
  {
   "cell_type": "code",
   "execution_count": null,
   "metadata": {},
   "outputs": [],
   "source": [
    "def trim_sequence(input_song, true_song):\n",
    "    all_source_inputs = []\n",
    "    all_ground_truths = []\n",
    "\n",
    "    for note_source, note_truth in zip(input_song, true_song):\n",
    "        if note_source[1] > 64 * 24:\n",
    "            break\n",
    "            \n",
    "        note_source = list(note_source)\n",
    "        note_truth = list(note_truth)\n",
    "        \n",
    "        note_source[0] = scale_timings(note_source[0])\n",
    "        note_source[1] = scale_timings(note_source[1])\n",
    "        note_source[2] = scale_pitch(note_source[2])\n",
    "        \n",
    "        all_source_inputs.append(note_source)\n",
    "        all_ground_truths.append(note_truth)\n",
    "\n",
    "    return all_source_inputs, all_ground_truths"
   ]
  },
  {
   "cell_type": "code",
   "execution_count": null,
   "metadata": {},
   "outputs": [],
   "source": [
    "# Create an output directory in /src, generate all results from the test dataset and synthesize all of them\n",
    "# Setting up paths and output folders\n",
    "SOURCE_INPUT_PATH =  HOME_PATH + '/bach-violin-dataset/dataset/source-input'\n",
    "TEMPO_PATH =  HOME_PATH + '/bach-violin-dataset/dataset/tempos'\n",
    "OUTPUT_PATH = HOME_PATH + '/src/lstm-output'\n",
    "composer_directories = os.listdir(SOURCE_INPUT_PATH)"
   ]
  },
  {
   "cell_type": "code",
   "execution_count": null,
   "metadata": {},
   "outputs": [],
   "source": [
    "input_dim = 3\n",
    "hidden_dim = 32\n",
    "layer_dim = 2\n",
    "output_dim = 2\n",
    "\n",
    "# initialize the MLP\n",
    "model = LSTM(input_dim, hidden_dim, layer_dim, output_dim)\n",
    "\n",
    "model.load_state_dict(torch.load(HOME_PATH + '/src/models/lstm/lstm.pt'))"
   ]
  },
  {
   "cell_type": "code",
   "execution_count": null,
   "metadata": {},
   "outputs": [],
   "source": [
    "# Get generated output values from all songs\n",
    "results = {}\n",
    "\n",
    "for input_path, true_path in zip(testing_X, testing_y):\n",
    "    trimmed_notes = []\n",
    "    trimmed_notes, trimmed_truth = trim_sequence(testing_X[input_path], testing_y[true_path])\n",
    "    trimmed_notes = [trimmed_notes]\n",
    "    trimmed_notes = torch.Tensor(trimmed_notes)\n",
    "    length = [len(trimmed_notes[0])]\n",
    "    length = torch.Tensor(length)\n",
    "\n",
    "    pred = model(trimmed_notes, length)\n",
    "    pred = pred.tolist()\n",
    "    results[input_path] = pred\n",
    "\n",
    "print(results)"
   ]
  },
  {
   "cell_type": "code",
   "execution_count": null,
   "metadata": {},
   "outputs": [],
   "source": [
    "# Synthesize\n",
    "if not os.path.isdir(OUTPUT_PATH):\n",
    "    os.mkdir(OUTPUT_PATH)\n",
    "\n",
    "for notes_path, generated_results in results.items():\n",
    "    name = '/' + notes_path.split('/')[-1]\n",
    "    name = name.replace('.csv', '')\n",
    "    generated_timings = [(note[0], note[1]) for note in generated_results[0]]\n",
    "    synthesize_generated_output(notes_path, generated_timings, OUTPUT_PATH, name)"
   ]
  }
 ],
 "metadata": {
  "kernelspec": {
   "display_name": "Python 3 (ipykernel)",
   "language": "python",
   "name": "python3"
  },
  "language_info": {
   "codemirror_mode": {
    "name": "ipython",
    "version": 3
   },
   "file_extension": ".py",
   "mimetype": "text/x-python",
   "name": "python",
   "nbconvert_exporter": "python",
   "pygments_lexer": "ipython3",
   "version": "3.9.18"
  }
 },
 "nbformat": 4,
 "nbformat_minor": 4
}
