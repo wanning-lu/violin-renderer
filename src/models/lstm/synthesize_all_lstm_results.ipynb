{
 "cells": [
  {
   "cell_type": "code",
   "execution_count": 55,
   "metadata": {},
   "outputs": [
    {
     "name": "stdout",
     "output_type": "stream",
     "text": [
      "Skip downloading as the MuseScore General soundfont is found.\n"
     ]
    }
   ],
   "source": [
    "import os \n",
    "\n",
    "# Run global_variables, synthesize_functions and mlp_model\n",
    "%run ~/violin-renderer/src/global_variables.ipynb\n",
    "# %run ~/violin-renderer/src/models/lstm/lstm_model.ipynb\n",
    "%run ~/violin-renderer/src/synthesize/synthesize_functions.ipynb\n",
    "%run ~/violin-renderer/src/models/lstm/data_processing.ipynb"
   ]
  },
  {
   "cell_type": "code",
   "execution_count": 60,
   "metadata": {},
   "outputs": [],
   "source": [
    "# Create an output directory in /src, generate all results from the test dataset and synthesize all of them\n",
    "# Setting up paths and output folders\n",
    "SOURCE_INPUT_PATH =  HOME_PATH + '/bach-violin-dataset/dataset/source-input'\n",
    "TEMPO_PATH =  HOME_PATH + '/bach-violin-dataset/dataset/tempos'\n",
    "OUTPUT_PATH = HOME_PATH + '/src/lstm-output'\n",
    "composer_directories = os.listdir(SOURCE_INPUT_PATH)"
   ]
  },
  {
   "cell_type": "code",
   "execution_count": 56,
   "metadata": {},
   "outputs": [],
   "source": [
    "testing_X, testing_y = load_testing_data()"
   ]
  },
  {
   "cell_type": "code",
   "execution_count": 57,
   "metadata": {},
   "outputs": [],
   "source": [
    "# reference: https://www.kaggle.com/code/kanncaa1/long-short-term-memory-with-pytorch\n",
    "class BILSTM(nn.Module):\n",
    "    def __init__(self, input_dim, hidden_dim, layer_dim, output_dim):\n",
    "        super(BILSTM, self).__init__()\n",
    "\n",
    "        self.input_dim = input_dim\n",
    "        self.hidden_dim = hidden_dim\n",
    "        self.layer_dim = layer_dim\n",
    "        self.output_dim = output_dim\n",
    "\n",
    "        # LSTM layer\n",
    "        self.lstm = nn.LSTM(input_dim, hidden_dim, layer_dim, bidirectional=True, batch_first=True) # batch_first=True (batch_dim, seq_dim, feature_dim)\n",
    "\n",
    "        # Output layer\n",
    "        self.fc = nn.Linear(hidden_dim*2, output_dim)\n",
    "\n",
    "    def forward(self, input_data, lengths):\n",
    "        # Initialize hidden state with zeros\n",
    "        h0 = torch.zeros(self.layer_dim, input_data.size(0), self.hidden_dim, device=input_data.device).requires_grad_()\n",
    "\n",
    "        # Initialize cell state\n",
    "        c0 = torch.zeros(self.layer_dim, input_data.size(0), self.hidden_dim, device=input_data.device).requires_grad_()\n",
    "\n",
    "        # Make the model \"understand\" that we're using padding\n",
    "        packed_input = pack_padded_sequence(input_data, lengths.cpu().numpy(), batch_first=True, enforce_sorted=False)\n",
    "\n",
    "        packed_output, _ = self.lstm(packed_input)\n",
    "        output, _ = pad_packed_sequence(packed_output, batch_first=True)\n",
    "        output = self.fc(output)\n",
    "        \n",
    "        return output"
   ]
  },
  {
   "cell_type": "code",
   "execution_count": 58,
   "metadata": {},
   "outputs": [],
   "source": [
    "# reference: https://www.kaggle.com/code/kanncaa1/long-short-term-memory-with-pytorch\n",
    "class UNILSTM(nn.Module):\n",
    "    def __init__(self, input_dim, hidden_dim, layer_dim, output_dim):\n",
    "        super(UNILSTM, self).__init__()\n",
    "\n",
    "        self.input_dim = input_dim\n",
    "        self.hidden_dim = hidden_dim\n",
    "        self.layer_dim = layer_dim\n",
    "        self.output_dim = output_dim\n",
    "\n",
    "        # LSTM layer\n",
    "        self.lstm = nn.LSTM(input_dim, hidden_dim, layer_dim, batch_first=True) # batch_first=True (batch_dim, seq_dim, feature_dim)\n",
    "\n",
    "        # Output layer\n",
    "        self.fc = nn.Linear(hidden_dim, output_dim)\n",
    "\n",
    "    def forward(self, input_data, lengths):\n",
    "        # Initialize hidden state with zeros\n",
    "        h0 = torch.zeros(self.layer_dim, input_data.size(0), self.hidden_dim, device=input_data.device).requires_grad_()\n",
    "\n",
    "        # Initialize cell state\n",
    "        c0 = torch.zeros(self.layer_dim, input_data.size(0), self.hidden_dim, device=input_data.device).requires_grad_()\n",
    "\n",
    "        # Make the model \"understand\" that we're using padding\n",
    "        packed_input = pack_padded_sequence(input_data, lengths.cpu().numpy(), batch_first=True, enforce_sorted=False)\n",
    "\n",
    "        packed_output, _ = self.lstm(packed_input)\n",
    "        output, _ = pad_packed_sequence(packed_output, batch_first=True)\n",
    "        output = self.fc(output)\n",
    "        \n",
    "        return output"
   ]
  },
  {
   "cell_type": "code",
   "execution_count": 59,
   "metadata": {},
   "outputs": [],
   "source": [
    "def trim_sequence(input_song, true_song):\n",
    "    all_source_inputs = []\n",
    "    all_ground_truths = []\n",
    "\n",
    "    for note_source, note_truth in zip(input_song, true_song):\n",
    "        if note_source[1] > 64 * 24:\n",
    "            break\n",
    "            \n",
    "        note_source = list(note_source)\n",
    "        note_truth = list(note_truth)\n",
    "        \n",
    "        note_source[0] = scale_timings(note_source[0])\n",
    "        note_source[1] = scale_timings(note_source[1])\n",
    "        note_source[2] = scale_pitch(note_source[2])\n",
    "        \n",
    "        all_source_inputs.append(note_source)\n",
    "        all_ground_truths.append(note_truth)\n",
    "\n",
    "    return all_source_inputs, all_ground_truths"
   ]
  },
  {
   "cell_type": "code",
   "execution_count": 63,
   "metadata": {},
   "outputs": [
    {
     "data": {
      "text/plain": [
       "<All keys matched successfully>"
      ]
     },
     "execution_count": 63,
     "metadata": {},
     "output_type": "execute_result"
    }
   ],
   "source": [
    "input_dim = 3\n",
    "hidden_dim = 32\n",
    "layer_dim = 2\n",
    "output_dim = 2\n",
    "\n",
    "# initialize the MLP\n",
    "model = UNILSTM(input_dim, hidden_dim, layer_dim, output_dim)\n",
    "\n",
    "model.load_state_dict(torch.load(HOME_PATH + '/src/models/lstm/one_direction_lstm.pt'))"
   ]
  },
  {
   "cell_type": "code",
   "execution_count": 64,
   "metadata": {},
   "outputs": [],
   "source": [
    "# Get generated output values from all songs\n",
    "results = {}\n",
    "ground_truth = {}\n",
    "\n",
    "for input_path, true_path in zip(testing_X, testing_y):\n",
    "    trimmed_notes = []\n",
    "    trimmed_notes, trimmed_truth = trim_sequence(testing_X[input_path], testing_y[true_path])\n",
    "    \n",
    "    trimmed_notes = [trimmed_notes]\n",
    "    trimmed_notes = torch.Tensor(trimmed_notes)\n",
    "    length = [len(trimmed_notes[0])]\n",
    "    length = torch.Tensor(length)\n",
    "\n",
    "    pred = model(trimmed_notes, length)\n",
    "    \n",
    "    pred = pred.tolist()\n",
    "\n",
    "    # popped_values = []\n",
    "    # # remove nonsensical values\n",
    "    # for index in range(len(pred)):\n",
    "    #     if pred[0][index][1] < pred[0][index][0]:\n",
    "    #         popped_values.append(index)\n",
    "\n",
    "    # for index in reversed(popped_values):\n",
    "    #     pred.pop(index)\n",
    "\n",
    "    ground_truth[true_path] = trimmed_truth\n",
    "    results[input_path] = pred"
   ]
  },
  {
   "cell_type": "code",
   "execution_count": 65,
   "metadata": {},
   "outputs": [],
   "source": [
    "def MSE_error():\n",
    "    MSE_results = []\n",
    "    for generative_timings, truth in zip(results.values(), ground_truth.values()):\n",
    "        predict_values = torch.Tensor(generative_timings)\n",
    "        ground_truth_values = torch.Tensor(truth[0])\n",
    "        MSE_value = loss(predict_values, ground_truth_values)\n",
    "        MSE_results.append(MSE_value)\n",
    "\n",
    "    return MSE_results"
   ]
  },
  {
   "cell_type": "code",
   "execution_count": 67,
   "metadata": {},
   "outputs": [],
   "source": [
    "# Micro Average\n",
    "def micro_MSE():\n",
    "    MSE = [float(num) for num in MSE_error()]\n",
    "    number_of_notes = [len(song) for song in ground_truth.values()]\n",
    "    weighted_MSE = [mse_error * num_of_notes / sum(number_of_notes) for mse_error, num_of_notes in zip(MSE, number_of_notes)]\n",
    "    print(\"Micro MSE: %.2f\" % sum(weighted_MSE))\n",
    "    print(\"Micro Root MSE: %.2f\" % np.sqrt(sum(weighted_MSE)))"
   ]
  },
  {
   "cell_type": "code",
   "execution_count": 66,
   "metadata": {},
   "outputs": [
    {
     "name": "stdout",
     "output_type": "stream",
     "text": [
      "[tensor(452.1805), tensor(2458.9905), tensor(1353.2759), tensor(1009.1328), tensor(1960.9547), tensor(1512.4719), tensor(2670.6404), tensor(844.3387), tensor(199.2810), tensor(249.4863)]\n"
     ]
    }
   ],
   "source": [
    "print(MSE_error())"
   ]
  },
  {
   "cell_type": "code",
   "execution_count": 68,
   "metadata": {},
   "outputs": [
    {
     "name": "stdout",
     "output_type": "stream",
     "text": [
      "Micro MSE: 1573.78\n",
      "Micro Root MSE: 39.67\n",
      "None\n"
     ]
    }
   ],
   "source": [
    "print(micro_MSE())"
   ]
  },
  {
   "cell_type": "code",
   "execution_count": 13,
   "metadata": {},
   "outputs": [
    {
     "name": "stdout",
     "output_type": "stream",
     "text": [
      "FluidSynth runtime version 2.2.5\n",
      "Copyright (C) 2000-2022 Peter Hanappe and others.\n",
      "Distributed under the LGPL license.\n",
      "SoundFont(R) is a registered trademark of Creative Technology Ltd.\n",
      "\n",
      "Rendering audio to file '/home/wanninglu/violin-renderer/src/lstm-output/shunske-sato_bwv1005_mov2.wav'..\n",
      "FluidSynth runtime version 2.2.5\n",
      "Copyright (C) 2000-2022 Peter Hanappe and others.\n",
      "Distributed under the LGPL license.\n",
      "SoundFont(R) is a registered trademark of Creative Technology Ltd.\n",
      "\n",
      "Rendering audio to file '/home/wanninglu/violin-renderer/src/lstm-output/shunske-sato_bwv1001_mov1.wav'..\n",
      "FluidSynth runtime version 2.2.5\n",
      "Copyright (C) 2000-2022 Peter Hanappe and others.\n",
      "Distributed under the LGPL license.\n",
      "SoundFont(R) is a registered trademark of Creative Technology Ltd.\n",
      "\n",
      "Rendering audio to file '/home/wanninglu/violin-renderer/src/lstm-output/iris-kengen_bwv1001_mov2.wav'..\n",
      "FluidSynth runtime version 2.2.5\n",
      "Copyright (C) 2000-2022 Peter Hanappe and others.\n",
      "Distributed under the LGPL license.\n",
      "SoundFont(R) is a registered trademark of Creative Technology Ltd.\n",
      "\n",
      "Rendering audio to file '/home/wanninglu/violin-renderer/src/lstm-output/shunske-sato_bwv1006_mov1.wav'..\n",
      "FluidSynth runtime version 2.2.5\n",
      "Copyright (C) 2000-2022 Peter Hanappe and others.\n",
      "Distributed under the LGPL license.\n",
      "SoundFont(R) is a registered trademark of Creative Technology Ltd.\n",
      "\n",
      "Rendering audio to file '/home/wanninglu/violin-renderer/src/lstm-output/zohra-jongerius_bwv1004_mov1.wav'..\n",
      "FluidSynth runtime version 2.2.5\n",
      "Copyright (C) 2000-2022 Peter Hanappe and others.\n",
      "Distributed under the LGPL license.\n",
      "SoundFont(R) is a registered trademark of Creative Technology Ltd.\n",
      "\n",
      "Rendering audio to file '/home/wanninglu/violin-renderer/src/lstm-output/emil-telmanyi_bwv1001_mov3.wav'..\n",
      "FluidSynth runtime version 2.2.5\n",
      "Copyright (C) 2000-2022 Peter Hanappe and others.\n",
      "Distributed under the LGPL license.\n",
      "SoundFont(R) is a registered trademark of Creative Technology Ltd.\n",
      "\n",
      "Rendering audio to file '/home/wanninglu/violin-renderer/src/lstm-output/shunske-sato_bwv1003_mov3.wav'..\n",
      "FluidSynth runtime version 2.2.5\n",
      "Copyright (C) 2000-2022 Peter Hanappe and others.\n",
      "Distributed under the LGPL license.\n",
      "SoundFont(R) is a registered trademark of Creative Technology Ltd.\n",
      "\n",
      "Rendering audio to file '/home/wanninglu/violin-renderer/src/lstm-output/dario-hulsing_bwv1004_mov4.wav'..\n",
      "FluidSynth runtime version 2.2.5\n",
      "Copyright (C) 2000-2022 Peter Hanappe and others.\n",
      "Distributed under the LGPL license.\n",
      "SoundFont(R) is a registered trademark of Creative Technology Ltd.\n",
      "\n",
      "Rendering audio to file '/home/wanninglu/violin-renderer/src/lstm-output/oliver-colbentson_bwv1006_mov3.wav'..\n",
      "FluidSynth runtime version 2.2.5\n",
      "Copyright (C) 2000-2022 Peter Hanappe and others.\n",
      "Distributed under the LGPL license.\n",
      "SoundFont(R) is a registered trademark of Creative Technology Ltd.\n",
      "\n",
      "Rendering audio to file '/home/wanninglu/violin-renderer/src/lstm-output/shunske-sato_bwv1006_mov4-2.wav'..\n"
     ]
    }
   ],
   "source": [
    "# Synthesize\n",
    "if not os.path.isdir(OUTPUT_PATH):\n",
    "    os.mkdir(OUTPUT_PATH)\n",
    "\n",
    "for notes_path, generated_results in results.items():\n",
    "    name = '/' + notes_path.split('/')[-1]\n",
    "    name = name.replace('.csv', '')\n",
    "    generated_timings = [(note[0], note[1]) for note in generated_results[0]]\n",
    "    synthesize_generated_output(notes_path, generated_timings, OUTPUT_PATH, name)"
   ]
  },
  {
   "cell_type": "code",
   "execution_count": null,
   "metadata": {},
   "outputs": [],
   "source": []
  }
 ],
 "metadata": {
  "kernelspec": {
   "display_name": "Python 3 (ipykernel)",
   "language": "python",
   "name": "python3"
  },
  "language_info": {
   "codemirror_mode": {
    "name": "ipython",
    "version": 3
   },
   "file_extension": ".py",
   "mimetype": "text/x-python",
   "name": "python",
   "nbconvert_exporter": "python",
   "pygments_lexer": "ipython3",
   "version": "3.9.18"
  }
 },
 "nbformat": 4,
 "nbformat_minor": 4
}
