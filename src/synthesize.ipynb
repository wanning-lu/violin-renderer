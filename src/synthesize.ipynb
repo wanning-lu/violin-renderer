{
 "cells": [
  {
   "cell_type": "code",
   "execution_count": 11,
   "metadata": {},
   "outputs": [],
   "source": [
    "import pretty_midi\n",
    "import numpy as np\n",
    "import muspy\n",
    "%run parse.ipynb\n",
    "# %run mlp_model.ipynb"
   ]
  },
  {
   "cell_type": "code",
   "execution_count": 12,
   "metadata": {},
   "outputs": [],
   "source": [
    "# Create a PrettyMIDI object\n",
    "tempo = parseTempoFile('../bach-violin-dataset/dataset/tempos/emil-telmanyi/bwv1001/emil-telmanyi_bwv1001_mov1.txt')\n",
    "MIDI = pretty_midi.PrettyMIDI(initial_tempo=tempo)\n",
    "\n",
    "# Create an Instrument instance for a cello instrument\n",
    "violin_program = pretty_midi.instrument_name_to_program('Violin')\n",
    "violin = pretty_midi.Instrument(program=violin_program)\n",
    "\n",
    "# Iterate over note names, which will be converted to note number later\n",
    "notes = parseInputFile('../bach-violin-dataset/dataset/source-input/emil-telmanyi/bwv1001/emil-telmanyi_bwv1001_mov1.csv')\n",
    "\n",
    "for onset, offset, pitch in notes:\n",
    "    note = pretty_midi.Note(\n",
    "        velocity=64, pitch=int(pitch), start=onset, end=offset)\n",
    "    violin.notes.append(note)\n",
    "\n",
    "# Add the instrument to the PrettyMIDI object\n",
    "MIDI.instruments.append(violin)\n",
    "\n",
    "# Write out the MIDI data\n",
    "MIDI.write('violin.mid')"
   ]
  },
  {
   "cell_type": "code",
   "execution_count": null,
   "metadata": {},
   "outputs": [],
   "source": [
    "# # Load MIDI file\n",
    "tempo = parseTempoFile('../bach-violin-dataset/dataset/tempos/emil-telmanyi/bwv1001/emil-telmanyi_bwv1001_mov1.txt')\n",
    "midi_data = pretty_midi.PrettyMIDI(midi_file='violin.mid', initial_tempo=tempo)\n",
    "\n",
    "# Synthesize the MIDI file, need to check fluidsynth to turn into audio\n",
    "# audio_data = midi_data.synthesize()\n",
    "\n",
    "audio_data = midi_data.fluidsynth()\n",
    "\n",
    "audio_data"
   ]
  },
  {
   "cell_type": "code",
   "execution_count": null,
   "metadata": {},
   "outputs": [],
   "source": [
    "# Herman's code\n",
    "\n",
    "\n",
    "\n",
    "# m = muspy.read(\"../bach-violin-dataset/dataset/scores/bwv1001/bwv1001_mov1.mxl\")\n",
    "# m.write_audio(\"raw.wav\")\n",
    "\n",
    "# def load_csv(filename, skiprows=1):\n",
    "#     \"\"\"Load data from a CSV file.\"\"\"\n",
    "#     return np.loadtxt(filename, dtype=int, delimiter=\",\", skiprows=skiprows)\n",
    "\n",
    "# notes_csv = load_csv(\"../bach-violin-dataset/dataset/source-input/emil-telmanyi/bwv1001/emil-telmanyi_bwv1001_mov1.csv\")\n",
    "# alignment_csv = load_csv(\"../bach-violin-dataset/dataset/ground-truth/emil-telmanyi/bwv1001/emil-telmanyi_bwv1001_mov1.csv\")\n",
    "\n",
    "# m2 = muspy.Music(resolution=1000, tracks=[muspy.Track(program=40)])\n",
    "# for note, alignment in zip(notes_csv, alignment_csv):\n",
    "#     m2[0].notes.append(muspy.Note(alignment[0] * 1000, note[2], (alignment[1] - alignment[0]) * 1000))\n",
    "# m2.write_audio(\"timing_only.wav\")"
   ]
  }
 ],
 "metadata": {
  "kernelspec": {
   "display_name": "base",
   "language": "python",
   "name": "python3"
  },
  "language_info": {
   "codemirror_mode": {
    "name": "ipython",
    "version": 3
   },
   "file_extension": ".py",
   "mimetype": "text/x-python",
   "name": "python",
   "nbconvert_exporter": "python",
   "pygments_lexer": "ipython3",
   "version": "3.11.5"
  }
 },
 "nbformat": 4,
 "nbformat_minor": 2
}
