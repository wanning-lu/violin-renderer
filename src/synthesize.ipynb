{
 "cells": [
  {
   "cell_type": "code",
   "execution_count": null,
   "metadata": {},
   "outputs": [],
   "source": [
    "import pretty_midi\n",
    "import numpy as np\n",
    "import muspy\n",
    "import os\n",
    "import csv\n",
    "%run parse.ipynb\n",
    "# %run mlp_model.ipynb"
   ]
  },
  {
   "cell_type": "code",
   "execution_count": null,
   "metadata": {},
   "outputs": [],
   "source": [
    "# Install soundfont for muspy\n",
    "muspy.download_musescore_soundfont()"
   ]
  },
  {
   "cell_type": "code",
   "execution_count": null,
   "metadata": {},
   "outputs": [],
   "source": [
    "# Note:\n",
    "# To synthesize, after generate the start and end timings, call storeCSV() then call the synthesizeOutput()\n",
    "# ONLY synthesize one at a time"
   ]
  },
  {
   "cell_type": "code",
   "execution_count": null,
   "metadata": {},
   "outputs": [],
   "source": [
    "# @param:\n",
    "    # startTimings: an array of expressive start times\n",
    "    # endTimings: an array of expressive end times\n",
    "    # fileName: name of CSV file\n",
    "# @return: output a CSV file containing the given expressive start and end timings\n",
    "def storeCSV(startTimings, endTimings, fileName):\n",
    "    if len(startTimings) != len(endTimings):\n",
    "        raise ValueError(\"Arrays must have the same length\")\n",
    "    else:\n",
    "        rows = zip(startTimings, endTimings)\n",
    "        outputDirectory = './csv-output/'\n",
    "        with open(outputDirectory + fileName + '.csv', mode='w', newline='') as file:\n",
    "            writer = csv.writer(file)\n",
    "            writer.writerow(['start', 'end'])  # Write header\n",
    "            writer.writerows(rows)"
   ]
  },
  {
   "cell_type": "code",
   "execution_count": null,
   "metadata": {},
   "outputs": [],
   "source": [
    "# @param:\n",
    "    # mxlPath: path to the mxl file\n",
    "    # outputPath: output the .wav file to this path   \n",
    "    # name: name of the .wav file\n",
    "# @return: wav file in src folder that converts the original \n",
    "def synthesizeInput(mxlPath, outputPath, name):\n",
    "    m = muspy.read(mxlPath)\n",
    "    m.write_audio(outputPath + name + \".wav\")"
   ]
  },
  {
   "cell_type": "code",
   "execution_count": null,
   "metadata": {},
   "outputs": [],
   "source": [
    "# @param:\n",
    "    # tempoPath: path to the tempo file\n",
    "    # inputPath: path to the original input file -> to get pitch and velocity\n",
    "    # outputPath: path to the generative output file containing the expressive start and end timings\n",
    "    # name: name of the .wav file\n",
    "# @return: wav file in src folder that converts the expressive timings\n",
    "def synthesizeOutput(tempoPath, inputPath, outputPath, name):\n",
    "    tempo = parseTempoFile(tempoPath)\n",
    "    MIDI = pretty_midi.PrettyMIDI(initial_tempo = tempo)\n",
    "\n",
    "    # Create an Instrument instance for a violin instrument\n",
    "    violinProgram = pretty_midi.instrument_name_to_program('Violin')\n",
    "    violin = pretty_midi.Instrument(program=violinProgram)\n",
    "\n",
    "    # Create notes\n",
    "    inputInfo = parseInputFile(inputPath)\n",
    "    outputInfo = parseOutputFile(outputPath)\n",
    "\n",
    "    for notes, times in zip(inputInfo, outputInfo):\n",
    "        note = pretty_midi.Note(\n",
    "            velocity=64, pitch=int(notes[2]), start=times[0], end=times[1])\n",
    "        violin.notes.append(note)\n",
    "\n",
    "    # Add the instrument to the PrettyMIDI object\n",
    "    MIDI.instruments.append(violin)\n",
    "\n",
    "    # Write to a MIDI file\n",
    "    MIDI.write('violin.mid')\n",
    "\n",
    "    # Convert to WAV using fluidsynth\n",
    "    soundfontPath = '../../.muspy/musescore-general/MuseScore_General.sf3'\n",
    "    outputDirectory = './audio-output/'\n",
    "    os.system(f'fluidsynth -ni {soundfontPath} {\"violin.mid\"} -F {outputDirectory + name + \".wav\"} -r 44100')\n",
    "\n",
    "    # Remove the MIDI file\n",
    "    os.remove('violin.mid')"
   ]
  },
  {
   "cell_type": "code",
   "execution_count": null,
   "metadata": {},
   "outputs": [],
   "source": [
    "# Test case for synthesizing input\n",
    "mxlPath = '../bach-violin-dataset/dataset/scores/bwv1001/bwv1001_mov1.mxl'\n",
    "name = 'bwv1001_source'\n",
    "synthesizeInput(mxlPath, name)"
   ]
  },
  {
   "cell_type": "code",
   "execution_count": null,
   "metadata": {},
   "outputs": [],
   "source": [
    "# Test case for synthesizing output\n",
    "tempoPath = '../bach-violin-dataset/dataset/tempos/emil-telmanyi/bwv1001/emil-telmanyi_bwv1001_mov1.txt'\n",
    "inputPath = '../bach-violin-dataset/dataset/source-input/emil-telmanyi/bwv1001/emil-telmanyi_bwv1001_mov1.csv'\n",
    "generatedOutputPath = '../bach-violin-dataset/dataset/ground-truth/emil-telmanyi/bwv1001/emil-telmanyi_bwv1001_mov1.csv' # using groundtruth instead of generated start, end timings\n",
    "name = 'bwv1001_groundtruth'\n",
    "synthesizeOutput(tempoPath, inputPath, generatedOutputPath, name)"
   ]
  }
 ],
 "metadata": {
  "kernelspec": {
   "display_name": "base",
   "language": "python",
   "name": "python3"
  },
  "language_info": {
   "codemirror_mode": {
    "name": "ipython",
    "version": 3
   },
   "file_extension": ".py",
   "mimetype": "text/x-python",
   "name": "python",
   "nbconvert_exporter": "python",
   "pygments_lexer": "ipython3",
   "version": "3.9.18"
  }
 },
 "nbformat": 4,
 "nbformat_minor": 2
}
