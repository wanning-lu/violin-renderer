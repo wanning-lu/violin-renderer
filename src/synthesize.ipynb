{
 "cells": [
  {
   "cell_type": "code",
   "execution_count": 11,
   "metadata": {},
   "outputs": [],
   "source": [
    "import pretty_midi\n",
    "import numpy as np\n",
    "import muspy\n",
    "import os\n",
    "%run parse.ipynb\n",
    "# %run mlp_model.ipynb"
   ]
  },
  {
   "cell_type": "code",
   "execution_count": null,
   "metadata": {},
   "outputs": [],
   "source": [
    "# Install soundfont for muspy\n",
    "muspy.download_musescore_soundfont()"
   ]
  },
  {
   "cell_type": "code",
   "execution_count": 12,
   "metadata": {},
   "outputs": [],
   "source": [
    "# Convert the expressive timings to a MIDI file then to an MP3 file\n",
    "# @param:\n",
    "    # tempoPath: path to the tempo file\n",
    "    # sourceInputPath: path to the source input file\n",
    "    # outputPath: path to the output file\n",
    "    # name: name of the .mp3 file\n",
    "def synthesizeOutput(tempoPath, sourceInputPath, outputPath, soundfontPath, name):\n",
    "    tempo = parseTempoFile(tempoPath)\n",
    "    MIDI = pretty_midi.PrettyMIDI(initial_tempo = tempo)\n",
    "\n",
    "    # Create an Instrument instance for a cello instrument\n",
    "    violin_program = pretty_midi.instrument_name_to_program('Violin')\n",
    "    violin = pretty_midi.Instrument(program=violin_program)\n",
    "\n",
    "    # Create notes\n",
    "    source_input = parseInputFile(sourceInputPath)\n",
    "    ground_truth = parseGroundtruthFile(outputPath)\n",
    "\n",
    "    for notes, times in zip(source_input, ground_truth):\n",
    "        note = pretty_midi.Note(\n",
    "            velocity=64, pitch=int(notes[2]), start=times[0], end=times[1])\n",
    "        violin.notes.append(note)\n",
    "\n",
    "    # Add the instrument to the PrettyMIDI object\n",
    "    MIDI.instruments.append(violin)\n",
    "\n",
    "    # Write out the MIDI data\n",
    "    MIDI.write('violin.mid')\n",
    "\n",
    "    # Convert WAV to MP3 using pydub\n",
    "    os.system(f'fluidsynth -ni {soundfontPath} {\"violin.mid\"} -F {name + \".wav\"} -r 44100')\n",
    "\n",
    "    # Remove the MIDI file\n",
    "    os.remove('violin.mid')"
   ]
  },
  {
   "cell_type": "code",
   "execution_count": null,
   "metadata": {},
   "outputs": [],
   "source": [
    "def synthesizeSourceInput(mxlPath, name):\n",
    "    m = muspy.read(mxlPath)\n",
    "    m.write_audio(name + \".wav\")"
   ]
  }
 ],
 "metadata": {
  "kernelspec": {
   "display_name": "base",
   "language": "python",
   "name": "python3"
  },
  "language_info": {
   "codemirror_mode": {
    "name": "ipython",
    "version": 3
   },
   "file_extension": ".py",
   "mimetype": "text/x-python",
   "name": "python",
   "nbconvert_exporter": "python",
   "pygments_lexer": "ipython3",
   "version": "3.11.5"
  }
 },
 "nbformat": 4,
 "nbformat_minor": 2
}
