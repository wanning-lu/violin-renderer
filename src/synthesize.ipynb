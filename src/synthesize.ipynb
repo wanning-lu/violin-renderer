{
 "cells": [
  {
   "cell_type": "code",
   "execution_count": 1,
   "metadata": {},
   "outputs": [],
   "source": [
    "import pretty_midi\n",
    "%run parse.ipynb"
   ]
  },
  {
   "cell_type": "code",
   "execution_count": 2,
   "metadata": {},
   "outputs": [],
   "source": [
    "# Create a PrettyMIDI object\n",
    "MIDI = pretty_midi.PrettyMIDI()\n",
    "\n",
    "# Create an Instrument instance for a cello instrument\n",
    "violin_program = pretty_midi.instrument_name_to_program('Violin')\n",
    "violin = pretty_midi.Instrument(program=violin_program)\n",
    "\n",
    "# Iterate over note names, which will be converted to note number later\n",
    "notes = parseInputFile('../bach-violin-dataset/dataset/source-input/emil-telmanyi/bwv1001/emil-telmanyi_bwv1001_mov1.csv')\n",
    "\n",
    "for onset, offset, pitch in notes:\n",
    "    note = pretty_midi.Note(\n",
    "        velocity=64, pitch=int(pitch), start=onset, end=offset)\n",
    "    violin.notes.append(note)\n",
    "\n",
    "# Add the instrument to the PrettyMIDI object\n",
    "MIDI.instruments.append(violin)\n",
    "\n",
    "# Write out the MIDI data\n",
    "MIDI.write('violin.mid')"
   ]
  },
  {
   "cell_type": "code",
   "execution_count": 3,
   "metadata": {},
   "outputs": [
    {
     "data": {
      "text/plain": [
       "array([0.        , 0.06730126, 0.13411644, ..., 0.        , 0.        ,\n",
       "       0.        ])"
      ]
     },
     "execution_count": 3,
     "metadata": {},
     "output_type": "execute_result"
    }
   ],
   "source": [
    "# Load MIDI file\n",
    "midi_data = pretty_midi.PrettyMIDI('violin.mid')\n",
    "\n",
    "# Synthesize the MIDI file, need to check fluidsynth to turn into audio\n",
    "audio_data = midi_data.synthesize()\n",
    "\n",
    "audio_data"
   ]
  }
 ],
 "metadata": {
  "kernelspec": {
   "display_name": "base",
   "language": "python",
   "name": "python3"
  },
  "language_info": {
   "codemirror_mode": {
    "name": "ipython",
    "version": 3
   },
   "file_extension": ".py",
   "mimetype": "text/x-python",
   "name": "python",
   "nbconvert_exporter": "python",
   "pygments_lexer": "ipython3",
   "version": "3.11.5"
  }
 },
 "nbformat": 4,
 "nbformat_minor": 2
}
